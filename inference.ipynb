{
  "nbformat": 4,
  "nbformat_minor": 0,
  "metadata": {
    "colab": {
      "provenance": [],
      "collapsed_sections": [
        "ivahFb3Y_m4S",
        "vs8QD7rH_yx0",
        "YbyN7ZhHnb7y",
        "ljEasptu9eUz"
      ],
      "toc_visible": true
    },
    "kernelspec": {
      "name": "python3",
      "display_name": "Python 3"
    },
    "language_info": {
      "name": "python"
    }
  },
  "cells": [
    {
      "cell_type": "markdown",
      "source": [
        "# SETUP"
      ],
      "metadata": {
        "id": "jLU96bJSInHr"
      }
    },
    {
      "cell_type": "markdown",
      "source": [
        "## Imports"
      ],
      "metadata": {
        "id": "OsfvruzUIrl0"
      }
    },
    {
      "cell_type": "code",
      "source": [
        "import torch\n",
        "import torch.nn as nn\n",
        "import torch.nn.functional as F\n",
        "import sys\n",
        "from collections import OrderedDict\n",
        "from torch.utils.data import Dataset\n",
        "import os\n",
        "import time\n",
        "import yaml\n",
        "import numpy as np\n",
        "import pandas as pd\n",
        "from torch.utils.data import DataLoader\n",
        "import torch.optim as optim\n",
        "from torch.autograd import Variable\n",
        "!git clone https://github.com/endgameinc/malware_evasion_competition.git\n",
        "# !wget https://ember.elastic.co/ember_dataset.tar.bz2\n",
        "import matplotlib.pyplot as plt\n",
        "import numpy as np\n",
        "import timeit\n",
        "import random\n",
        "from copy import deepcopy\n",
        "import pickle\n",
        "from typing import Tuple\n",
        "from google.colab import drive\n",
        "drive.mount('/content/gdrive',force_remount=True)\n",
        "import csv\n",
        "from sklearn.model_selection import train_test_split"
      ],
      "metadata": {
        "id": "XSTf41nBIrRy",
        "colab": {
          "base_uri": "https://localhost:8080/"
        },
        "outputId": "8af1d08b-6698-49f5-a21c-e95899b938d5"
      },
      "execution_count": 1,
      "outputs": [
        {
          "output_type": "stream",
          "name": "stdout",
          "text": [
            "Cloning into 'malware_evasion_competition'...\n",
            "remote: Enumerating objects: 22, done.\u001b[K\n",
            "remote: Total 22 (delta 0), reused 0 (delta 0), pack-reused 22\u001b[K\n",
            "Unpacking objects: 100% (22/22), 92.54 MiB | 5.47 MiB/s, done.\n",
            "Mounted at /content/gdrive\n"
          ]
        }
      ]
    },
    {
      "cell_type": "markdown",
      "source": [
        "## Links"
      ],
      "metadata": {
        "id": "da7Yb78dnPkj"
      }
    },
    {
      "cell_type": "markdown",
      "source": [
        "\n",
        "\n",
        "*   [random link] https://subscription.packtpub.com/book/security/9781789614671/3/ch03lvl1sec31/malconv-end-to-end-deep-learning-for-malicious-pe-detection\n",
        "*   [paper + link to paper repo] https://arxiv.org/pdf/1710.09435.pdf https://github.com/j40903272/MalConv-keras \n",
        "\n",
        "*   [repo I got the code in this colab from] https://github.com/endgameinc/malware_evasion_competition \n",
        "\n",
        "*   [pytorch implementation of MalConv with training loop (no data tho)] https://github.com/Alexander-H-Liu/MalConv-Pytorch \n",
        "\n",
        "*   [pytorch implementation with training loop too but they do give insights into how they built their dataset] https://github.com/PowerLZY/MalConv-Pytorch/tree/master\n",
        "*   [backup dataset. its clean and easy to access but its very big (~8TB)] https://github.com/sophos/SOREL-20M \n",
        "\n",
        "\n",
        "\n",
        "\n",
        "\n"
      ],
      "metadata": {
        "id": "WIz_XmCEnSth"
      }
    },
    {
      "cell_type": "code",
      "execution_count": 12,
      "metadata": {
        "id": "Kb3hQlLkyepH"
      },
      "outputs": [],
      "source": [
        "class MalConv(nn.Module):\n",
        "    # trained to minimize cross-entropy loss\n",
        "    # criterion = nn.CrossEntropyLoss()\n",
        "    def __init__(self, input_length=2000000, out_size=1, channels=128, window_size=512, embd_size=8, log_stride=None):\n",
        "        super(MalConv, self).__init__()\n",
        "        self.embd = nn.Embedding(257, embd_size, padding_idx=0)\n",
        "        if not log_stride is None:\n",
        "            stride = 2 ** log_stride\n",
        "        self.window_size = window_size\n",
        "    \n",
        "        self.conv_1 = nn.Conv1d(embd_size, channels, window_size, stride=window_size, bias=True)\n",
        "        self.conv_2 = nn.Conv1d(embd_size, channels, window_size, stride=window_size, bias=True)\n",
        "        \n",
        "        self.pooling = nn.MaxPool1d(int(input_length/window_size))\n",
        "        \n",
        "        self.fc_1 = nn.Linear(channels, channels)\n",
        "        self.fc_2 = nn.Linear(channels, out_size)\n",
        "      \n",
        "    def processRange(self, x):\n",
        "        x = self.embd(x)\n",
        "        x = torch.transpose(x, -1, -2)\n",
        "\n",
        "        cnn_value = self.conv_1(x)\n",
        "        gating_weight = torch.sigmoid(self.conv_2(x))\n",
        "\n",
        "        x = cnn_value * gating_weight\n",
        "\n",
        "        return x\n",
        "    \n",
        "    def forward(self, x):\n",
        "        \n",
        "        x = self.embd(x.long())\n",
        "        x = torch.transpose(x,-1,-2)\n",
        "        \n",
        "        cnn_value = self.conv_1(x)\n",
        "        gating_weight = torch.sigmoid(self.conv_2(x))\n",
        "        \n",
        "        x = cnn_value * gating_weight\n",
        "        \n",
        "        x = self.pooling(x)\n",
        "        \n",
        "        #Flatten\n",
        "        x = x.view(x.size(0), -1)\n",
        "        \n",
        "        x = F.relu(self.fc_1(x))\n",
        "        x = self.fc_2(x)\n",
        "        x = F.sigmoid(x)\n",
        "        \n",
        "        return x"
      ]
    },
    {
      "cell_type": "code",
      "source": [
        "import torch\n",
        "import torch.nn.functional as F\n",
        "import numpy as np\n",
        "\n",
        "MALCONV_MODEL_PATH = '/content/example_sd_12.model'\n",
        "\n",
        "malconv = torch.load(MALCONV_MODEL_PATH,map_location=torch.device('cpu'))\n",
        "\n",
        "def predict_binary(file, model):\n",
        "  with open(file,'rb') as infile:\n",
        "    bytez = infile.read()\n",
        "    return(model.forward(bytez))"
      ],
      "metadata": {
        "id": "c56BDmKHEn6F"
      },
      "execution_count": 5,
      "outputs": []
    },
    {
      "cell_type": "markdown",
      "source": [
        "## Data wrangling"
      ],
      "metadata": {
        "id": "ivahFb3Y_m4S"
      }
    },
    {
      "cell_type": "markdown",
      "source": [
        "This series of cells were use to clean up the directory of scraped files from portable freeware. Non .dll/.exe files are removed along with files that do not have \\\\x## in the beginning."
      ],
      "metadata": {
        "id": "q4oA0WiJdsby"
      }
    },
    {
      "cell_type": "code",
      "source": [
        "!tar -xvf /content/portablefreeware.tar.gz"
      ],
      "metadata": {
        "id": "ZXqdRg9nzfEc"
      },
      "execution_count": null,
      "outputs": []
    },
    {
      "cell_type": "code",
      "source": [
        "!ls /content/content/portablefreeware/ | wc -l"
      ],
      "metadata": {
        "colab": {
          "base_uri": "https://localhost:8080/"
        },
        "id": "cOAA-awez4QV",
        "outputId": "95b4333a-5550-453c-9bd2-7c94405c41f5"
      },
      "execution_count": null,
      "outputs": [
        {
          "output_type": "stream",
          "name": "stdout",
          "text": [
            "2882\n"
          ]
        }
      ]
    },
    {
      "cell_type": "code",
      "source": [
        "!find /content/content/portablefreeware/ -not -name '*.dll' -not -name '*.exe' -type f -delete -o -type d -empty -delete\n"
      ],
      "metadata": {
        "id": "Y_qshiYb1jEY"
      },
      "execution_count": null,
      "outputs": []
    },
    {
      "cell_type": "code",
      "source": [
        "!ls /content/content/portablefreeware/ | wc -l"
      ],
      "metadata": {
        "colab": {
          "base_uri": "https://localhost:8080/"
        },
        "id": "HexsGf1a2f8d",
        "outputId": "b5dc2e06-f633-435c-dda6-7755a920f607"
      },
      "execution_count": null,
      "outputs": [
        {
          "output_type": "stream",
          "name": "stdout",
          "text": [
            "2199\n"
          ]
        }
      ]
    },
    {
      "cell_type": "code",
      "source": [
        "import re\n",
        "import os\n",
        "n = 0\n",
        "a = 0 \n",
        "for dir in os.listdir(\"/content/gdrive/MyDrive/hpml_final_project/portablefreeware\"):\n",
        "  a += 1\n",
        "  \n",
        "  with open(\"/content/gdrive/MyDrive/hpml_final_project/portablefreeware/\" + dir,'rb') as infile:\n",
        "    bytez = infile.read()\n",
        "\n",
        "  if re.search(r\"\\\\x[0-9]{2}\", str(bytez[0:5])) != None:\n",
        "    # print(re.search(r\"\\\\x[0-9]{2}\", str(bytez[0:5])))\n",
        "    n += 1\n",
        "    with open(f\"/content/gdrive/MyDrive/hpml_final_project/portablefreeware2/freeware_{n}\"+dir[-4:], \"wb\") as binary_file:\n",
        "      print(dir,f\"/content/gdrive/MyDrive/hpml_final_project/portablefreeware2/freeware_{n}\"+dir[-4:] )\n",
        "      # Write bytes to file\n",
        "      binary_file.write(bytez)\n",
        "  "
      ],
      "metadata": {
        "id": "z9B94J7s2rXg"
      },
      "execution_count": null,
      "outputs": []
    },
    {
      "cell_type": "code",
      "source": [
        "!ls /content/gdrive/MyDrive/hpml_final_project/portablefreeware2 | wc -l"
      ],
      "metadata": {
        "colab": {
          "base_uri": "https://localhost:8080/"
        },
        "id": "F8KpRQv-3cdY",
        "outputId": "fce056ea-576f-4b2a-be72-8b504b52c7b0"
      },
      "execution_count": null,
      "outputs": [
        {
          "output_type": "stream",
          "name": "stdout",
          "text": [
            "1120\n"
          ]
        }
      ]
    },
    {
      "cell_type": "code",
      "source": [
        "!tar -cvf freeware_execs.tar.gz /content/content/freeware"
      ],
      "metadata": {
        "id": "ai1faLdG3ewD"
      },
      "execution_count": null,
      "outputs": []
    },
    {
      "cell_type": "code",
      "source": [
        "from google.colab import drive\n",
        "\n",
        "drive.mount(\"/content/gdrive\")"
      ],
      "metadata": {
        "colab": {
          "base_uri": "https://localhost:8080/"
        },
        "id": "VuZiW_6R4JYh",
        "outputId": "9f641353-5e7d-4bd3-c125-9eee191427e5"
      },
      "execution_count": null,
      "outputs": [
        {
          "output_type": "stream",
          "name": "stdout",
          "text": [
            "Mounted at /content/gdrive\n"
          ]
        }
      ]
    },
    {
      "cell_type": "code",
      "source": [
        "!mv /content/freeware_execs.tar.gz /content/gdrive/MyDrive/hpml_final_project"
      ],
      "metadata": {
        "colab": {
          "base_uri": "https://localhost:8080/"
        },
        "id": "bG_m-gGH4Rr1",
        "outputId": "9a23e8f6-4351-432f-af15-2176f423faaa"
      },
      "execution_count": null,
      "outputs": [
        {
          "output_type": "stream",
          "name": "stdout",
          "text": [
            "mv: cannot stat '/content/freeware_execs.tar.gz': No such file or directory\n"
          ]
        }
      ]
    },
    {
      "cell_type": "markdown",
      "source": [
        "## Data loading"
      ],
      "metadata": {
        "id": "vs8QD7rH_yx0"
      }
    },
    {
      "cell_type": "markdown",
      "source": [
        "This code chunk grabs the cleaned and scraped freeware files, extracts them from the tar, and prints out the file extensions represented in the dataset."
      ],
      "metadata": {
        "id": "glx-xNM5eSKD"
      }
    },
    {
      "cell_type": "code",
      "source": [
        "!cp /content/gdrive/MyDrive/hpml_final_project/freeware_execs.tar.gz /content/"
      ],
      "metadata": {
        "id": "_DoWmwGb_1sr"
      },
      "execution_count": null,
      "outputs": []
    },
    {
      "cell_type": "code",
      "source": [
        "!mkdir /content/data/"
      ],
      "metadata": {
        "id": "WaOi1pPLGSas"
      },
      "execution_count": null,
      "outputs": []
    },
    {
      "cell_type": "code",
      "source": [
        "!cd /content/data/ && tar -xvf ./../freeware_execs.tar.gz "
      ],
      "metadata": {
        "id": "41LYgIExAcDA"
      },
      "execution_count": null,
      "outputs": []
    },
    {
      "cell_type": "code",
      "source": [
        "!mv /content/data/content/content/freeware /content/data/"
      ],
      "metadata": {
        "id": "_U0qLDV6HVlh"
      },
      "execution_count": null,
      "outputs": []
    },
    {
      "cell_type": "code",
      "source": [
        "!rm -rf /content/data/content"
      ],
      "metadata": {
        "id": "1XQhYEFEHygK"
      },
      "execution_count": null,
      "outputs": []
    },
    {
      "cell_type": "code",
      "source": [
        "# lists all filetypes in dir\n",
        "!find /content/content/portablefreeware -type f | perl -ne 'print $1 if m/\\.([^.\\/]+)$/' | sort -u"
      ],
      "metadata": {
        "colab": {
          "base_uri": "https://localhost:8080/"
        },
        "id": "1uOxZU0HUQwF",
        "outputId": "000805f2-f7a3-4f2c-96fc-d0178e4eaf80"
      },
      "execution_count": null,
      "outputs": [
        {
          "output_type": "stream",
          "name": "stdout",
          "text": [
            "dll\n",
            "exe\n"
          ]
        }
      ]
    },
    {
      "cell_type": "markdown",
      "source": [
        "## Set up dataloaders"
      ],
      "metadata": {
        "id": "1v2z9VNTwQ-W"
      }
    },
    {
      "cell_type": "markdown",
      "source": [
        "This code is based on the paper author's code and it just sets up the dataloaders."
      ],
      "metadata": {
        "id": "H3tIMdAofADN"
      }
    },
    {
      "cell_type": "code",
      "source": [
        "filename = \"/content/gdrive/MyDrive/hpml_final_project/input_labels.csv\"\n",
        "X = []\n",
        "y = []\n",
        "with open(filename, newline='') as csvfile:\n",
        "    spamreader = csv.reader(csvfile, delimiter='\\n', quotechar='|')\n",
        "    first = 0\n",
        "    for row in spamreader:\n",
        "      if first == 0:\n",
        "        first = 1\n",
        "        continue\n",
        "      X.append(row[0].split(\",\")[0])\n",
        "      y.append(row[0].split(\",\")[1])\n",
        "X_train, X_test, y_train, y_test = train_test_split(X, y, test_size=0.15, random_state=42)\n",
        "test_csv = \"/content/gdrive/MyDrive/hpml_final_project/test_labels.csv\"\n",
        "train_csv = \"/content/gdrive/MyDrive/hpml_final_project/train_labels.csv\"\n",
        "train_out = []\n",
        "datapath = \"/content/gdrive/MyDrive/hpml_final_project/data_final/\"\n",
        "for i in range(len(y_train)):\n",
        "  if os.path.isfile(datapath+X_train[i]):\n",
        "    train_out.append([X_train[i], y_train[i]])\n",
        "with open(train_csv, 'w') as csvfile: \n",
        "    csvwriter = csv.writer(csvfile) \n",
        "    csvwriter.writerows(train_out)\n",
        "test_out = []\n",
        "for i in range(len(y_test)):\n",
        "  if os.path.isfile(datapath+X_test[i]):\n",
        "    test_out.append([X_test[i], y_test[i]])\n",
        "\n",
        "with open(test_csv, 'w') as csvfile: \n",
        "    csvwriter = csv.writer(csvfile) \n",
        "    csvwriter.writerows(test_out)\n",
        "\n",
        "def getParams():\n",
        "    # Format for this is to make it work easily with Optuna in an automated fashion.\n",
        "    # variable name -> tuple(sampling function, dict(sampling_args) )\n",
        "    params = {\n",
        "        'channels': (\"suggest_int\", {'name': 'channels', 'low': 32, 'high': 1024}),\n",
        "        'log_stride': (\"suggest_int\", {'name': 'log2_stride', 'low': 2, 'high': 9}),\n",
        "        'window_size': (\"suggest_int\", {'name': 'window_size', 'low': 32, 'high': 512}),\n",
        "        'embd_size': (\"suggest_int\", {'name': 'embd_size', 'low': 4, 'high': 64}),\n",
        "    }\n",
        "    return OrderedDict(sorted(params.items(), key=lambda t: t[0]))\n",
        "    \n",
        "def initModel(**kwargs):\n",
        "    new_args = {}\n",
        "    for x in getParams():\n",
        "        if x in kwargs:\n",
        "            new_args[x] = kwargs[x]\n",
        "\n",
        "    return MalConv(**new_args)\n",
        "  \n",
        "def write_pred(test_pred,test_idx,file_path):\n",
        "\ttest_pred = [item for sublist in test_pred for item in sublist]\n",
        "\twith open(file_path,'w') as f:\n",
        "\t\tfor idx,pred in zip(test_idx,test_pred):\n",
        "\t\t\tprint(idx.upper()+','+str(pred[0]),file=f)\n",
        "\n",
        "class ExeDataset(Dataset):\n",
        "\tdef __init__(self, fp_list, data_path, label_list, first_n_byte=2000000):\n",
        "\t\tself.fp_list = fp_list\n",
        "\t\tself.data_path = data_path\n",
        "\t\tself.label_list = label_list\n",
        "\t\tself.first_n_byte = first_n_byte\n",
        "\n",
        "\tdef __len__(self):\n",
        "\t\treturn len(self.fp_list)\n",
        "\n",
        "\tdef __getitem__(self, idx):\n",
        "\t\ttry:\n",
        "\t\t\twith open(self.data_path + self.fp_list[idx],'rb') as f:\n",
        "\t\t\t\ttmp = [i+1 for i in f.read()[:self.first_n_byte]] # index 0 will be special padding index 每个值加一\n",
        "\t\t\t\ttmp = tmp+[0]*(self.first_n_byte-len(tmp))\n",
        "\t\texcept:\n",
        "\t\t\twith open(self.data_path + self.fp_list[idx].lower(),'rb') as f:\n",
        "\t\t\t\ttmp = [i+1 for i in f.read()[:self.first_n_byte]]\n",
        "\t\t\t\ttmp = tmp+[0]*(self.first_n_byte-len(tmp))\n",
        "\n",
        "\t\treturn np.array(tmp), np.array([self.label_list[idx]])\n",
        "config_path = \"/content/gdrive/MyDrive/hpml_final_project/example.yaml\" \n",
        "seed = 10 \n",
        "conf = yaml.safe_load(open(config_path,'r'))\n",
        "\n",
        "exp_name = conf['exp_name']+'_sd_'+str(seed)\n",
        "print('Experiment:')\n",
        "print('\\t',exp_name)\n",
        "\n",
        "np.random.seed(seed)\n",
        "torch.manual_seed(seed)\n",
        "\n",
        "train_data_path = conf['train_data_path']\n",
        "train_label_path = conf['train_label_path']\n",
        "\n",
        "valid_data_path = conf['valid_data_path']\n",
        "valid_label_path = conf['valid_label_path']\n",
        "\n",
        "log_dir = conf['log_dir']\n",
        "pred_dir = conf['pred_dir']\n",
        "checkpoint_dir = conf['checkpoint_dir']\n",
        "\n",
        "\n",
        "log_file_path = log_dir+exp_name+'.log'\n",
        "chkpt_acc_path = checkpoint_dir+exp_name+'.model'\n",
        "pred_path = pred_dir+exp_name+'.pred'\n",
        "\n",
        "# Parameters\n",
        "use_gpu = conf['use_gpu']\n",
        "use_cpu = conf['use_cpu']\n",
        "learning_rate = conf['learning_rate']\n",
        "max_step = conf['max_step']\n",
        "test_step = conf['test_step']\n",
        "batch_size = 1#conf['batch_size']\n",
        "first_n_byte = conf['first_n_byte']\n",
        "window_size = conf['window_size']\n",
        "display_step = conf['display_step']\n",
        "\n",
        "sample_cnt = conf['sample_cnt']\n",
        "# Load Ground Truth.\n",
        "tr_label_table = pd.read_csv(train_label_path,header=None,index_col=0)\n",
        "tr_label_table.index=tr_label_table.index.str.upper()\n",
        "tr_label_table = tr_label_table.rename(columns={1:'ground_truth'})\n",
        "val_label_table = pd.read_csv(valid_label_path,header=None,index_col=0)\n",
        "val_label_table.index=val_label_table.index.str.upper()\n",
        "val_label_table = val_label_table.rename(columns={1:'ground_truth'})\n",
        "\n",
        "# Merge Tables and remove duplicate\n",
        "tr_table = tr_label_table.groupby(level=0).last()\n",
        "del tr_label_table\n",
        "val_table = val_label_table.groupby(level=0).last()\n",
        "del val_label_table\n",
        "tr_table = tr_table.drop(val_table.index.join(tr_table.index, how='inner'))\n",
        "\n",
        "print('Training Set:')\n",
        "print('\\tTotal',len(tr_table),'files')\n",
        "print('\\tMalware Count :',tr_table['ground_truth'].value_counts()[1])\n",
        "print('\\tGoodware Count:',tr_table['ground_truth'].value_counts()[0])\n",
        "\n",
        "\n",
        "print('Validation Set:')\n",
        "print('\\tTotal',len(val_table),'files')\n",
        "print('\\tMalware Count :',val_table['ground_truth'].value_counts()[1])\n",
        "print('\\tGoodware Count:',val_table['ground_truth'].value_counts()[0])\n",
        "\n",
        "if sample_cnt != 1:\n",
        "    tr_table = tr_table.sample(n=sample_cnt,random_state=seed)\n",
        "\n",
        "dataset_test = ExeDataset(list(tr_table.index), train_data_path, list(tr_table.ground_truth),first_n_byte)\n",
        "\n",
        "start_train=time.perf_counter()\n",
        "dataloader = DataLoader(dataset_test , batch_size=batch_size, shuffle=True, num_workers=use_cpu)\n",
        "end_train=time.perf_counter()\n",
        "\n",
        "validloader = DataLoader(ExeDataset(list(val_table.index), valid_data_path, list(val_table.ground_truth),first_n_byte),\n",
        "                        batch_size=batch_size, shuffle=False, num_workers=use_cpu)\n",
        "\n",
        "print(\"Train Dataloader: \" + str(end_train-start_train))\n",
        "\n",
        "valid_idx = list(val_table.index)\n",
        "del tr_table\n",
        "del val_table\n",
        "\n",
        "\n",
        "malconv = MalConv(input_length=first_n_byte,window_size=window_size)\n",
        "bce_loss = nn.BCEWithLogitsLoss()\n",
        "adam_optim = optim.Adam([{'params':malconv.parameters()}],lr=learning_rate)\n",
        "sigmoid = nn.Sigmoid()\n",
        "\n",
        "if use_gpu:\n",
        "    pass\n",
        "    # malconv = malconv.cuda()\n",
        "    # bce_loss = bce_loss.cuda()\n",
        "    # sigmoid = sigmoid.cuda()\n",
        "\n",
        "\n",
        "step_msg = 'step-{}-loss-{:.6f}-acc-{:.4f}-time-{:.2f}'\n",
        "valid_msg = 'step-{}-tr_loss-{:.6f}-tr_acc-{:.4f}-val_loss-{:.6f}-val_acc-{:.4f}'\n",
        "log_msg = '{}, {:.6f}, {:.4f}, {:.6f}, {:.4f}, {:.2f}'\n",
        "history = {}\n",
        "history['val_loss'] = []\n",
        "history['val_acc'] = []\n",
        "history['val_pred'] = []\n",
        "history['tr_loss'] = []\n",
        "history['tr_acc'] = []\n",
        "history['tr_time'] = []\n",
        "history['val_time'] = []\n",
        "\n",
        "epoch_stats = {}\n",
        "epoch_stats['val_loss'] = []\n",
        "epoch_stats['val_acc'] = []\n",
        "epoch_stats['val_pred'] = []\n",
        "epoch_stats['tr_loss'] = []\n",
        "epoch_stats['tr_acc'] = []\n",
        "epoch_stats['tr_time'] = []\n",
        "epoch_stats['val_time'] = []\n",
        "\n",
        "log = open(log_file_path,'w')\n",
        "log.write('step,tr_loss, tr_acc, val_loss, val_acc, time\\n')\n",
        "\n",
        "valid_best_acc = 0.0\n",
        "total_step = 0\n",
        "step_cost_time = 0"
      ],
      "metadata": {
        "colab": {
          "base_uri": "https://localhost:8080/"
        },
        "id": "AoR9zy9fwUQq",
        "outputId": "49d3ee2d-bdbc-4dfb-d9ad-9772a7b806ec"
      },
      "execution_count": 7,
      "outputs": [
        {
          "output_type": "stream",
          "name": "stdout",
          "text": [
            "Experiment:\n",
            "\t example_sd_10\n",
            "Training Set:\n",
            "\tTotal 1335 files\n",
            "\tMalware Count : 387\n",
            "\tGoodware Count: 948\n",
            "Validation Set:\n",
            "\tTotal 236 files\n",
            "\tMalware Count : 64\n",
            "\tGoodware Count: 172\n",
            "Train Dataloader: 0.0004053839999755837\n"
          ]
        }
      ]
    },
    {
      "cell_type": "markdown",
      "source": [
        "# Inference evaluation\n"
      ],
      "metadata": {
        "id": "CUiLIf3BIYkm"
      }
    },
    {
      "cell_type": "code",
      "source": [
        "#runner function\n",
        "def get_stats(dataloader, model):\n",
        "  print(f\"Running through the files...\")\n",
        "  \n",
        "  inference_times = []\n",
        "\n",
        "  correct_malware = 0 \n",
        "  total_malware = 0\n",
        "  correct_freeware = 0 \n",
        "  total_freeware = 0 \n",
        "  for x,y in dataloader:\n",
        "    if total_malware > 150 and total_freeware > 150:\n",
        "      break\n",
        "\n",
        "    start = time.perf_counter()\n",
        "    model_output = model(x)\n",
        "    elapsed = time.perf_counter()-start\n",
        "    inference_times.append(elapsed)\n",
        "    \n",
        "    prediction = torch.round(model(x))\n",
        "\n",
        "    if y == 0:\n",
        "      if prediction == y:\n",
        "        correct_freeware += 1\n",
        "      total_freeware +=1\n",
        "    else:\n",
        "      if prediction == y:\n",
        "        correct_malware += 1\n",
        "      total_malware += 1\n",
        "    print(f\"file processed...  inference time: {(elapsed):0.3f}s\")\n",
        "  resdict = {\n",
        "           \"correct_malware\": correct_malware, \n",
        "           \"correct_freeware\": correct_freeware,\n",
        "           \"total_malware\": total_malware,\n",
        "           \"total_freeware\": total_freeware,\n",
        "           \"inference_times\": inference_times}\n",
        "  return(resdict)"
      ],
      "metadata": {
        "id": "BIgQKCvMwbP-"
      },
      "execution_count": 31,
      "outputs": []
    },
    {
      "cell_type": "markdown",
      "source": [
        "## Baseline model stats"
      ],
      "metadata": {
        "id": "Otg7lAE8fg87"
      }
    },
    {
      "cell_type": "code",
      "source": [
        "# LOAD IN MODEL FROM FEDERICO'S TRAINING LOOP\n",
        "\n",
        "MALCONV_MODEL_PATH = '/content/example_sd_12.model'\n",
        "malconv = torch.load(MALCONV_MODEL_PATH,map_location=torch.device('cpu'))\n",
        "\n",
        "baseline_stats = get_stats(dataloader,malconv)\n",
        "\n",
        "with open('/content/gdrive/MyDrive/hpml_final_project/results/baseline_stats.pickle', 'wb') as handle:\n",
        "    pickle.dump(baseline_stats, handle, protocol=pickle.HIGHEST_PROTOCOL)"
      ],
      "metadata": {
        "id": "v7Ix2nCjIcSP"
      },
      "execution_count": null,
      "outputs": []
    },
    {
      "cell_type": "code",
      "source": [
        "malconv"
      ],
      "metadata": {
        "colab": {
          "base_uri": "https://localhost:8080/"
        },
        "id": "DlZE_lQt0Uko",
        "outputId": "681dc2d2-be89-4f00-bc0b-7ceeab23d8f8"
      },
      "execution_count": 11,
      "outputs": [
        {
          "output_type": "execute_result",
          "data": {
            "text/plain": [
              "MalConv(\n",
              "  (embd): Embedding(257, 8, padding_idx=0)\n",
              "  (conv_1): Conv1d(8, 128, kernel_size=(500,), stride=(500,))\n",
              "  (conv_2): Conv1d(8, 128, kernel_size=(500,), stride=(500,))\n",
              "  (pooling): MaxPool1d(kernel_size=4000, stride=4000, padding=0, dilation=1, ceil_mode=False)\n",
              "  (fc_1): Linear(in_features=128, out_features=128, bias=True)\n",
              "  (fc_2): Linear(in_features=128, out_features=1, bias=True)\n",
              ")"
            ]
          },
          "metadata": {},
          "execution_count": 11
        }
      ]
    },
    {
      "cell_type": "code",
      "source": [
        "file = open(\"/content/gdrive/MyDrive/hpml_final_project/results/baseline_stats.pickle\", 'rb')\n",
        "mal_dat = pickle.load(file)\n",
        "acc = ( mal_dat[\"correct_malware\"] + mal_dat[\"correct_freeware\"] )/( mal_dat[\"total_malware\"] + mal_dat[\"total_freeware\"] )\n",
        "try:\n",
        "  mal_acc = mal_dat[\"correct_malware\"]/mal_dat[\"total_malware\"]\n",
        "except: \n",
        "  mal_acc = np.inf\n",
        "try:\n",
        "  free_acc = mal_dat[\"correct_freeware\"]/mal_dat[\"total_freeware\"]\n",
        "except:\n",
        "  free_acc = np.inf\n",
        "\n",
        "print(f\"total accuracy: { acc *100 :0.2f}, accuracy on malware: {mal_acc * 100 :0.2f}%, accuracy on freeware: {free_acc * 100 :0.2f}%\")\n",
        "\n",
        "\n",
        "\n",
        "param_size = 0\n",
        "for param in malconv.parameters():\n",
        "    param_size += param.nelement() * param.element_size()\n",
        "buffer_size = 0\n",
        "for buffer in malconv.buffers():\n",
        "    buffer_size += buffer.nelement() * buffer.element_size()\n",
        "\n",
        "size_all_mb = (param_size + buffer_size) / 1024**2\n",
        "print('model size: {:.3f}MB'.format(size_all_mb)) #N=300"
      ],
      "metadata": {
        "colab": {
          "base_uri": "https://localhost:8080/"
        },
        "id": "aUpXkW9i_bNK",
        "outputId": "2ca835af-3610-4b06-b097-6a793fccf51a"
      },
      "execution_count": 80,
      "outputs": [
        {
          "output_type": "stream",
          "name": "stdout",
          "text": [
            "total accuracy: 69.76, accuracy on malware: 0.66%, accuracy on freeware: 100.00%\n",
            "model size: 3.979MB\n"
          ]
        }
      ]
    },
    {
      "cell_type": "code",
      "source": [
        "mal_dat"
      ],
      "metadata": {
        "colab": {
          "base_uri": "https://localhost:8080/"
        },
        "id": "vVHNRaEOSIP0",
        "outputId": "be872cfd-2560-4ab5-ca33-e451feb848f8"
      },
      "execution_count": 81,
      "outputs": [
        {
          "output_type": "execute_result",
          "data": {
            "text/plain": [
              "{'correct_malware': 1,\n",
              " 'correct_freeware': 345,\n",
              " 'total_malware': 151,\n",
              " 'total_freeware': 345,\n",
              " 'inference_times': [0.5715923130001102,\n",
              "  0.8539950240001417,\n",
              "  0.9002991359998305,\n",
              "  0.9238364110001385,\n",
              "  0.5346834920001129,\n",
              "  0.5144143850002365,\n",
              "  0.5361191570000301,\n",
              "  0.5240261859999009,\n",
              "  0.5225462630000948,\n",
              "  0.5070387639998444,\n",
              "  0.5229416269999092,\n",
              "  0.5001750219998939,\n",
              "  0.5064594319997013,\n",
              "  0.5524996179997288,\n",
              "  0.602856802000133,\n",
              "  0.9344545740000285,\n",
              "  0.8863647110001693,\n",
              "  0.7562129889997777,\n",
              "  0.5483985259998008,\n",
              "  0.5226519930001814,\n",
              "  0.5114231100001234,\n",
              "  0.5246838360003494,\n",
              "  0.5033167910000884,\n",
              "  0.52706103599985,\n",
              "  0.49717350800028726,\n",
              "  0.4739485939999213,\n",
              "  0.43845041199983825,\n",
              "  0.5231199299996661,\n",
              "  0.8356569480001781,\n",
              "  0.8012586590002684,\n",
              "  0.9189234430000397,\n",
              "  0.5279002070001297,\n",
              "  0.5387352049997389,\n",
              "  0.5351928320001207,\n",
              "  0.5315287109997371,\n",
              "  0.5324254049996853,\n",
              "  0.5350126030002684,\n",
              "  0.5305136080000921,\n",
              "  0.5217345679998289,\n",
              "  0.5388248569997813,\n",
              "  0.5278949430003195,\n",
              "  0.7889753939998627,\n",
              "  0.7991052409997792,\n",
              "  0.8306114830002116,\n",
              "  0.5674932140000237,\n",
              "  0.5142043129999365,\n",
              "  0.5510489770003915,\n",
              "  0.5160102539998661,\n",
              "  0.5283860209997329,\n",
              "  0.5206327310002052,\n",
              "  0.55457734599986,\n",
              "  0.50186918899999,\n",
              "  0.5429672599998412,\n",
              "  0.5257820030001312,\n",
              "  0.548111455000253,\n",
              "  0.8578692779997255,\n",
              "  0.7718296369998825,\n",
              "  0.7189997259997654,\n",
              "  0.529738929999894,\n",
              "  0.5253699580002831,\n",
              "  0.4898322180001742,\n",
              "  0.48875048799982324,\n",
              "  0.49916696700029206,\n",
              "  0.5202908490000482,\n",
              "  0.502089707000323,\n",
              "  0.5266324449999047,\n",
              "  0.5092989549998492,\n",
              "  0.5149489229997926,\n",
              "  0.5814487760003431,\n",
              "  0.8737702890002765,\n",
              "  0.9546579579996433,\n",
              "  1.1050984729999982,\n",
              "  0.8216134369999963,\n",
              "  0.5374661500000002,\n",
              "  0.5142824909999035,\n",
              "  0.5317013789999692,\n",
              "  0.5129541940000308,\n",
              "  0.47999536499992246,\n",
              "  0.5337964759996794,\n",
              "  0.5265475760002118,\n",
              "  0.6943421129999479,\n",
              "  0.907462298000155,\n",
              "  0.8385416160003842,\n",
              "  0.6538556810000955,\n",
              "  0.5518463109997356,\n",
              "  0.5316825609997977,\n",
              "  0.512900682000236,\n",
              "  0.5426463909998347,\n",
              "  0.5397472280001239,\n",
              "  0.5248631869999372,\n",
              "  0.5145129679999627,\n",
              "  0.5236323670001184,\n",
              "  0.5375563980001061,\n",
              "  0.6250126950003505,\n",
              "  0.9387959609998688,\n",
              "  0.9151337150001382,\n",
              "  0.6910201480000069,\n",
              "  0.512598657000126,\n",
              "  0.5334878230000868,\n",
              "  0.5259454739998546,\n",
              "  0.47811316899969825,\n",
              "  0.5336610629997267,\n",
              "  0.5130320380003468,\n",
              "  0.5295529869999882,\n",
              "  0.5353412870003922,\n",
              "  0.5499472409996997,\n",
              "  0.5455625820000023,\n",
              "  0.8992916699999114,\n",
              "  0.794887572999869,\n",
              "  0.7927218660001927,\n",
              "  0.5059486479999578,\n",
              "  0.5321690959999614,\n",
              "  0.536966793999909,\n",
              "  0.5145598499998414,\n",
              "  0.5453833120000127,\n",
              "  0.5281141039999966,\n",
              "  0.5477643150002223,\n",
              "  0.5267800899996473,\n",
              "  0.4985065719997692,\n",
              "  0.5179873490001228,\n",
              "  0.928132683000058,\n",
              "  0.921383354000227,\n",
              "  0.8679299219998029,\n",
              "  0.5512101710000934,\n",
              "  0.5326551119997021,\n",
              "  0.5586880969999584,\n",
              "  0.5637756320002154,\n",
              "  0.5285151739999492,\n",
              "  0.5503502359997583,\n",
              "  0.5466593290002493,\n",
              "  0.5357875509998848,\n",
              "  0.5371690100000706,\n",
              "  0.5807979060000434,\n",
              "  0.7721395480002684,\n",
              "  0.8625545400000192,\n",
              "  0.7219649579997167,\n",
              "  0.5385854930000278,\n",
              "  0.5274464029998853,\n",
              "  0.5228966429999673,\n",
              "  0.536314276000212,\n",
              "  0.5409288689997993,\n",
              "  0.5147726989998773,\n",
              "  0.5480328430003283,\n",
              "  0.5101369750000231,\n",
              "  0.5295131550001315,\n",
              "  0.5258319839999785,\n",
              "  0.9052244230001634,\n",
              "  0.9431517530001656,\n",
              "  0.886160461000145,\n",
              "  0.5468745670000317,\n",
              "  0.5372306070003106,\n",
              "  0.5081425419998595,\n",
              "  0.5307379509999919,\n",
              "  0.515456591000202,\n",
              "  0.5236978699999781,\n",
              "  0.5338496650001616,\n",
              "  0.5375223390001338,\n",
              "  0.5403751039998497,\n",
              "  0.4884636500000852,\n",
              "  0.8367990120000286,\n",
              "  0.7310526109999955,\n",
              "  0.7263659260001987,\n",
              "  0.5597820550001416,\n",
              "  0.5258447480000541,\n",
              "  0.5396526630001972,\n",
              "  0.5558342350000203,\n",
              "  0.5138848010001311,\n",
              "  0.5162385439998616,\n",
              "  0.5442462299997715,\n",
              "  0.5863317949997509,\n",
              "  0.5545164380000642,\n",
              "  0.5561216920000334,\n",
              "  0.9000223310004003,\n",
              "  0.8099319929997364,\n",
              "  0.8585787839997465,\n",
              "  0.5426640250002492,\n",
              "  0.5206977269999697,\n",
              "  0.5429888499998015,\n",
              "  0.5609361009996974,\n",
              "  0.549298870000257,\n",
              "  0.5545429190001414,\n",
              "  0.5917784990001564,\n",
              "  0.5391974819999632,\n",
              "  0.5223088489997281,\n",
              "  0.5171119670003463,\n",
              "  0.8613012689997959,\n",
              "  0.8876152459997684,\n",
              "  0.7633560499998566,\n",
              "  0.53873480700031,\n",
              "  0.4794940490000954,\n",
              "  0.5193650579999485,\n",
              "  0.5096049419998963,\n",
              "  0.5331899709999561,\n",
              "  0.5031476559997827,\n",
              "  0.5276914070000203,\n",
              "  0.5199113989997386,\n",
              "  0.5277905759999157,\n",
              "  0.4976573870003449,\n",
              "  0.9490409710001586,\n",
              "  0.8857590860002347,\n",
              "  0.8469906259997515,\n",
              "  0.5604965410002478,\n",
              "  0.5334188850001738,\n",
              "  0.5469664459997148,\n",
              "  0.5008736390000195,\n",
              "  0.5021467900000971,\n",
              "  0.517895567999858,\n",
              "  0.49741178000022046,\n",
              "  0.5139901669999745,\n",
              "  0.5107027000003654,\n",
              "  0.4813917420001417,\n",
              "  0.7943195729999388,\n",
              "  0.9565351480000572,\n",
              "  0.9228218179996475,\n",
              "  1.6454296100000647,\n",
              "  1.315575441999954,\n",
              "  1.5445192779998251,\n",
              "  1.2850241900000583,\n",
              "  2.0508905599999707,\n",
              "  1.4814910469999631,\n",
              "  0.6115406870003426,\n",
              "  0.5801124699996763,\n",
              "  0.515185332999863,\n",
              "  0.5454330050001772,\n",
              "  0.5401684250000471,\n",
              "  0.5276923540000098,\n",
              "  0.5644146950003233,\n",
              "  0.53994892899982,\n",
              "  0.532482168000115,\n",
              "  0.5468952660003197,\n",
              "  0.8590399370000341,\n",
              "  0.9292315920001784,\n",
              "  0.8110832390002543,\n",
              "  0.46754601199972967,\n",
              "  0.5372825200001898,\n",
              "  0.5650293950002379,\n",
              "  0.5591857630001869,\n",
              "  0.5488053170001876,\n",
              "  0.5526209839999865,\n",
              "  0.5536538249998557,\n",
              "  0.5427388709999832,\n",
              "  0.5263652990001901,\n",
              "  0.5372871549998308,\n",
              "  0.901638997000191,\n",
              "  0.8451893500000551,\n",
              "  0.8633670230001371,\n",
              "  0.5572505489999457,\n",
              "  0.5603068800000983,\n",
              "  0.5548809889996846,\n",
              "  0.5459540840001864,\n",
              "  0.48345155700008036,\n",
              "  0.5363350929997068,\n",
              "  0.5408647670001301,\n",
              "  0.5545090450000316,\n",
              "  0.5492475689998173,\n",
              "  0.5485670799998843,\n",
              "  0.7717916269998568,\n",
              "  0.9102091960003236,\n",
              "  0.8905345010002748,\n",
              "  0.5164157939998404,\n",
              "  0.5328251159999127,\n",
              "  0.5706961119999505,\n",
              "  0.5599496740001086,\n",
              "  0.5441930869997122,\n",
              "  0.5055141200000435,\n",
              "  0.5550075629998901,\n",
              "  0.5457441089997701,\n",
              "  0.5493691900001068,\n",
              "  0.5439020060002804,\n",
              "  0.8612812800001848,\n",
              "  0.7239670939998177,\n",
              "  0.882401254999877,\n",
              "  0.5513559299997723,\n",
              "  0.49764502999960314,\n",
              "  0.5937797679998766,\n",
              "  0.5784263010000359,\n",
              "  0.5541012319999936,\n",
              "  0.5481911429997126,\n",
              "  0.5293679540000085,\n",
              "  0.5875066690000494,\n",
              "  0.5600868989999981,\n",
              "  0.6861537920003684,\n",
              "  0.9341119159998925,\n",
              "  0.9521703880000132,\n",
              "  0.6200801519999004,\n",
              "  0.5217292829997859,\n",
              "  0.5247988180003631,\n",
              "  0.5462199499997951,\n",
              "  0.4825421410000672,\n",
              "  0.5566840989999946,\n",
              "  0.5287391010001556,\n",
              "  0.5397371450003448,\n",
              "  0.516867266999725,\n",
              "  0.5429096799998661,\n",
              "  0.780918056000246,\n",
              "  0.8876426870001524,\n",
              "  0.9109697930002767,\n",
              "  0.6548899280001024,\n",
              "  0.5191422809998585,\n",
              "  0.5465049519998502,\n",
              "  0.5366908780001722,\n",
              "  0.53621042199984,\n",
              "  0.5190237879996857,\n",
              "  0.5516059479996329,\n",
              "  0.5206582860000708,\n",
              "  0.5229174880000755,\n",
              "  0.49465228999997635,\n",
              "  0.6595509310000125,\n",
              "  0.85882445299967,\n",
              "  0.7601908149999872,\n",
              "  0.7301165039998523,\n",
              "  0.5578149250000024,\n",
              "  0.5273460109997359,\n",
              "  0.552958948000196,\n",
              "  0.5346606449998035,\n",
              "  0.5532464960001562,\n",
              "  0.5318806850000328,\n",
              "  0.5402713930002392,\n",
              "  0.5535150679997969,\n",
              "  0.5214514899998903,\n",
              "  0.5847677810002097,\n",
              "  0.9447523549997641,\n",
              "  0.8993055759997333,\n",
              "  0.7328743299999587,\n",
              "  0.49600864500007447,\n",
              "  0.5255244210002274,\n",
              "  0.5157317670000339,\n",
              "  0.5643972240000039,\n",
              "  0.536048755000138,\n",
              "  0.5371000770001046,\n",
              "  0.5338736059998155,\n",
              "  0.5523214140002892,\n",
              "  0.54692074400009,\n",
              "  0.6602971170000274,\n",
              "  0.8854906420001498,\n",
              "  0.9556622780000907,\n",
              "  0.6593814570001086,\n",
              "  0.5425190769997243,\n",
              "  0.5331027649999669,\n",
              "  0.5659015410001302,\n",
              "  0.529260289999911,\n",
              "  0.47459853200007274,\n",
              "  0.5363963119998516,\n",
              "  0.5522596420000809,\n",
              "  0.5531831449998208,\n",
              "  0.5222483190000275,\n",
              "  0.6630208030001086,\n",
              "  0.9885688439999285,\n",
              "  0.9260634559996106,\n",
              "  0.6624372649998804,\n",
              "  0.5195758140002908,\n",
              "  0.5331016850000196,\n",
              "  0.5431022580000899,\n",
              "  0.5574499139997897,\n",
              "  0.5277923530002226,\n",
              "  0.5316350119996969,\n",
              "  0.5558764400002474,\n",
              "  0.543219040999702,\n",
              "  0.5083076169999003,\n",
              "  0.5710966309998184,\n",
              "  0.8097505139999157,\n",
              "  0.8863025290002042,\n",
              "  0.6872634389997074,\n",
              "  0.539703333000034,\n",
              "  0.46198431600032563,\n",
              "  0.5219229599997561,\n",
              "  0.5242030570002498,\n",
              "  0.5460828410000431,\n",
              "  0.5276501010002903,\n",
              "  0.5336300499998288,\n",
              "  0.5536860120000711,\n",
              "  0.5418079010000838,\n",
              "  0.6346986109997488,\n",
              "  0.7953500789999453,\n",
              "  0.8790788050000629,\n",
              "  0.7139180200001647,\n",
              "  0.5157355760002247,\n",
              "  0.521046632999969,\n",
              "  0.505134022999755,\n",
              "  0.5601024709999365,\n",
              "  0.5408930700000383,\n",
              "  0.5261504039999636,\n",
              "  0.5164183150000099,\n",
              "  0.5245327339998767,\n",
              "  0.5108514499997909,\n",
              "  0.5685670140001093,\n",
              "  0.8151814349998858,\n",
              "  0.7997501149998243,\n",
              "  0.8767696040004012,\n",
              "  0.5382369190001555,\n",
              "  0.5188055200001145,\n",
              "  0.5270978009998544,\n",
              "  0.5422549770000842,\n",
              "  0.5335168870001326,\n",
              "  0.5388992090001921,\n",
              "  0.5237683679997645,\n",
              "  0.5433455390002564,\n",
              "  0.5310635119999461,\n",
              "  0.513601123999706,\n",
              "  0.9110371719998511,\n",
              "  0.8889414559998841,\n",
              "  0.6896338359997571,\n",
              "  0.5437466739999763,\n",
              "  0.49792743299985887,\n",
              "  0.5386826469998596,\n",
              "  0.5430197900000167,\n",
              "  0.5370381879997694,\n",
              "  0.5344641070000762,\n",
              "  0.5532432540003356,\n",
              "  0.5389605850000407,\n",
              "  0.5188008039999659,\n",
              "  0.5481875659997968,\n",
              "  0.8940199799999391,\n",
              "  0.9283489800000098,\n",
              "  0.8624660330001461,\n",
              "  0.5077535979999084,\n",
              "  0.5344342049997977,\n",
              "  0.5186079169998266,\n",
              "  0.5073418639999545,\n",
              "  0.49796847000015987,\n",
              "  0.523925902999963,\n",
              "  0.5567022850000285,\n",
              "  0.5311255769997842,\n",
              "  0.5321741259999726,\n",
              "  0.5294577350000509,\n",
              "  0.8683711160001621,\n",
              "  0.8113018439998996,\n",
              "  0.8079275029999735,\n",
              "  0.5401563840000563,\n",
              "  0.5407198460002292,\n",
              "  0.5403443700001844,\n",
              "  0.5151190659998974,\n",
              "  0.5468236859996978,\n",
              "  0.510976355999901,\n",
              "  0.5329221789997973,\n",
              "  0.5300393990000885,\n",
              "  0.506376593999903,\n",
              "  0.5237950840000849,\n",
              "  0.9231720759999007,\n",
              "  0.8918523919996915,\n",
              "  0.835158237000087,\n",
              "  0.552240274000269,\n",
              "  0.5123992129997532,\n",
              "  0.5021292440001162,\n",
              "  0.5314931660000184,\n",
              "  0.5551548909998019,\n",
              "  0.5184988130004058,\n",
              "  0.520463718999963,\n",
              "  0.5284424940000463,\n",
              "  0.5279472209999767,\n",
              "  0.5188030140002411,\n",
              "  0.9275705630002449,\n",
              "  0.9667904550001367,\n",
              "  0.8271693900001083,\n",
              "  0.5398570350002956,\n",
              "  0.4958401500002765,\n",
              "  0.5557274550001239,\n",
              "  0.5363286070000868,\n",
              "  0.5473611289999099,\n",
              "  0.5637134850003349,\n",
              "  0.5497834090001561,\n",
              "  0.5276856440000302,\n",
              "  0.5410038519999034,\n",
              "  0.5464040409997324,\n",
              "  0.8326647300000332,\n",
              "  0.8864859269997396,\n",
              "  0.8870583519997126,\n",
              "  0.5397432800000388,\n",
              "  0.5366424759999973,\n",
              "  0.5262268770002265,\n",
              "  0.45691156000020783,\n",
              "  0.4899563379999563,\n",
              "  0.5362390029999915,\n",
              "  0.5242646000001514,\n",
              "  0.5087510610001118,\n",
              "  0.5357788530000107,\n",
              "  0.5633563490000597,\n",
              "  0.8325172290001319,\n",
              "  0.9664342030000626,\n",
              "  0.8345241029996942,\n",
              "  0.5329644449998341,\n",
              "  0.5416563769999811,\n",
              "  0.5281819249998989,\n",
              "  0.5273510039996836,\n",
              "  0.4703181879999647,\n",
              "  0.5224001529995803,\n",
              "  0.5536995580000621,\n",
              "  0.5245796849999351,\n",
              "  0.5266917390003982,\n",
              "  0.526651769000182,\n",
              "  0.6258506950002811,\n",
              "  0.9146755939996183,\n",
              "  0.9701309689999107,\n",
              "  0.6404534880002757,\n",
              "  0.5238656139999875,\n",
              "  0.5470286710001346]}"
            ]
          },
          "metadata": {},
          "execution_count": 81
        }
      ]
    },
    {
      "cell_type": "code",
      "source": [
        "np.mean(mal_dat['inference_times'])"
      ],
      "metadata": {
        "colab": {
          "base_uri": "https://localhost:8080/"
        },
        "id": "keTlajdgCA8G",
        "outputId": "b9b6bb60-8262-4561-f066-e97b59453ad9"
      },
      "execution_count": 34,
      "outputs": [
        {
          "output_type": "execute_result",
          "data": {
            "text/plain": [
              "0.620226439657262"
            ]
          },
          "metadata": {},
          "execution_count": 34
        }
      ]
    },
    {
      "cell_type": "code",
      "source": [
        "base_times = mal_dat['inference_times']"
      ],
      "metadata": {
        "id": "fj9qhqJKIiKs"
      },
      "execution_count": 66,
      "outputs": []
    },
    {
      "cell_type": "code",
      "source": [
        "plt.hist(mal_dat['inference_times'])\n"
      ],
      "metadata": {
        "colab": {
          "base_uri": "https://localhost:8080/",
          "height": 519
        },
        "id": "edBuWbsvIYxa",
        "outputId": "cfa62e62-410a-41be-f856-4a1481fa29fd"
      },
      "execution_count": 65,
      "outputs": [
        {
          "output_type": "execute_result",
          "data": {
            "text/plain": [
              "(array([364.,  29.,  74.,  22.,   1.,   2.,   2.,   1.,   0.,   1.]),\n",
              " array([0.43845041, 0.59969443, 0.76093844, 0.92218246, 1.08342647,\n",
              "        1.24467049, 1.4059145 , 1.56715852, 1.72840253, 1.88964655,\n",
              "        2.05089056]),\n",
              " <BarContainer object of 10 artists>)"
            ]
          },
          "metadata": {},
          "execution_count": 65
        },
        {
          "output_type": "display_data",
          "data": {
            "text/plain": [
              "<Figure size 640x480 with 1 Axes>"
            ],
            "image/png": "[encoded data removed]"
          },
          "metadata": {}
        }
      ]
    },
    {
      "cell_type": "markdown",
      "source": [
        "# MODEL QUANTIZATION"
      ],
      "metadata": {
        "id": "WQTQ8kiUM-7p"
      }
    },
    {
      "cell_type": "markdown",
      "source": [
        "## Copy malconv model"
      ],
      "metadata": {
        "id": "iBKtvjdHND6e"
      }
    },
    {
      "cell_type": "code",
      "source": [
        "# A convenience function which we use to copy CNNs\n",
        "def copy_model(model: nn.Module) -> nn.Module:\n",
        "    result = deepcopy(model)\n",
        "\n",
        "    # Copy over the extra metadata we've collected which copy.deepcopy doesn't capture\n",
        "    if hasattr(model, 'input_activations'):\n",
        "        result.input_activations = deepcopy(model.input_activations)\n",
        "\n",
        "    for result_layer, original_layer in zip(result.children(), model.children()):\n",
        "        if isinstance(result_layer, nn.Conv1d) or isinstance(result_layer, nn.Linear):\n",
        "            if hasattr(original_layer.weight, 'scale'):\n",
        "                result_layer.weight.scale = deepcopy(original_layer.weight.scale)\n",
        "            if hasattr(original_layer, 'activations'):\n",
        "                result_layer.activations = deepcopy(original_layer.activations)\n",
        "            if hasattr(original_layer, 'output_scale'):\n",
        "                result_layer.output_scale = deepcopy(original_layer.output_scale)\n",
        "\n",
        "    return result"
      ],
      "metadata": {
        "id": "bb4HTkZUKAB9"
      },
      "execution_count": 35,
      "outputs": []
    },
    {
      "cell_type": "code",
      "source": [
        "malcopy_qweights = copy_model(malconv)\n",
        "malcopy_qweights"
      ],
      "metadata": {
        "colab": {
          "base_uri": "https://localhost:8080/"
        },
        "id": "aMS-1KbwL9Gs",
        "outputId": "80deeb8d-9f96-432f-ccd1-a096e469ba24"
      },
      "execution_count": 36,
      "outputs": [
        {
          "output_type": "execute_result",
          "data": {
            "text/plain": [
              "MalConv(\n",
              "  (embd): Embedding(257, 8, padding_idx=0)\n",
              "  (conv_1): Conv1d(8, 128, kernel_size=(500,), stride=(500,))\n",
              "  (conv_2): Conv1d(8, 128, kernel_size=(500,), stride=(500,))\n",
              "  (pooling): MaxPool1d(kernel_size=4000, stride=4000, padding=0, dilation=1, ceil_mode=False)\n",
              "  (fc_1): Linear(in_features=128, out_features=128, bias=True)\n",
              "  (fc_2): Linear(in_features=128, out_features=1, bias=True)\n",
              ")"
            ]
          },
          "metadata": {},
          "execution_count": 36
        }
      ]
    },
    {
      "cell_type": "markdown",
      "source": [
        "## Store & quantize weights"
      ],
      "metadata": {
        "id": "6o6JKuhznOI0"
      }
    },
    {
      "cell_type": "code",
      "source": [
        "fc1_weights = malconv.fc_1.weight.data.view(-1)\n",
        "\n",
        "fc2_weights = malconv.fc_2.weight.data.cpu().view(-1)\n",
        "\n",
        "cv1_weights = malconv.conv_1.weight.data.cpu().view(-1)\n",
        "\n",
        "cv2_weights = malconv.conv_1.weight.data.cpu().view(-1)"
      ],
      "metadata": {
        "id": "rT5_laOdMf1q"
      },
      "execution_count": 37,
      "outputs": []
    },
    {
      "cell_type": "code",
      "source": [
        "\n",
        "def quantized_weights(weights: torch.Tensor) -> Tuple[torch.Tensor, float]:\n",
        "    '''\n",
        "    Quantize the weights so that all values are integers between -128 and 127.\n",
        "    You may want to use the total range, 3-sigma range, or some other range when\n",
        "    deciding just what factors to scale the float32 values by.\n",
        "\n",
        "    Parameters:\n",
        "    weights (Tensor): The unquantized weights\n",
        "\n",
        "    Returns:\n",
        "    (Tensor, float): A tuple with the following elements:\n",
        "                        * The weights in quantized form, where every value is an integer between -128 and 127.\n",
        "                          The \"dtype\" will still be \"float\", but the values themselves should all be integers.\n",
        "                        * The scaling factor that your weights were multiplied by.\n",
        "                          This value does not need to be an 8-bit integer.\n",
        "    '''\n",
        "\n",
        "    res = torch.clone(weights)\n",
        "    sc = np.max(np.abs(weights.numpy(force=True))) \n",
        "    res = torch.round( res   / (2*sc/(-1+2**8))) \n",
        "\n",
        "\n",
        "    return torch.clamp(res, min=-128, max=127), 1/(2*sc/(-1+2**8))\n",
        "\n",
        "def quantize_layer_weights(model: nn.Module):\n",
        "    for layer in model.children():\n",
        "        if isinstance(layer, nn.Conv2d) or isinstance(layer, nn.Linear):\n",
        "            q_layer_data, scale = quantized_weights(layer.weight.data)\n",
        "            q_layer_data = q_layer_data.to(\"cpu\")\n",
        "\n",
        "            layer.weight.data = q_layer_data\n",
        "            layer.weight.scale = scale\n",
        "\n",
        "            if (q_layer_data < -128).any() or (q_layer_data > 127).any():\n",
        "                raise Exception(\"Quantized weights of {} layer include values out of bounds for an 8-bit signed integer\".format(layer.__class__.__name__))\n",
        "            if (q_layer_data != q_layer_data.round()).any():\n",
        "                raise Exception(\"Quantized weights of {} layer include non-integer values\".format(layer.__class__.__name__))\n",
        "\n"
      ],
      "metadata": {
        "id": "00lPB0yrTPtx"
      },
      "execution_count": 38,
      "outputs": []
    },
    {
      "cell_type": "code",
      "source": [
        "quantize_layer_weights(malcopy_qweights)"
      ],
      "metadata": {
        "id": "Aj9cgvc6TYdt"
      },
      "execution_count": 39,
      "outputs": []
    },
    {
      "cell_type": "markdown",
      "source": [
        "## Measure quantized weights model performance"
      ],
      "metadata": {
        "id": "Rmt-XeJugD6o"
      }
    },
    {
      "cell_type": "code",
      "source": [
        "# LOAD IN MODEL \n",
        "# TO DO\n",
        "qweight_stats = get_stats(dataloader,malcopy_qweights)\n",
        "\n",
        "with open('/content/gdrive/MyDrive/hpml_final_project/results/qweights_stats.pickle', 'wb') as handle:\n",
        "    pickle.dump(qweight_stats, handle, protocol=pickle.HIGHEST_PROTOCOL)"
      ],
      "metadata": {
        "id": "Lx3JrQCI7mTn"
      },
      "execution_count": null,
      "outputs": []
    },
    {
      "cell_type": "code",
      "source": [
        "file = open(\"/content/gdrive/MyDrive/hpml_final_project/results/qweights_stats.pickle\", 'rb')\n",
        "mal_dat = pickle.load(file)\n",
        "acc = ( mal_dat[\"correct_malware\"] + mal_dat[\"correct_freeware\"] )/( mal_dat[\"total_malware\"] + mal_dat[\"total_freeware\"] )\n",
        "try:\n",
        "  mal_acc = mal_dat[\"correct_malware\"]/mal_dat[\"total_malware\"]\n",
        "except: \n",
        "  mal_acc = np.inf\n",
        "try:\n",
        "  free_acc = mal_dat[\"correct_freeware\"]/mal_dat[\"total_freeware\"]\n",
        "except:\n",
        "  free_acc = np.inf\n",
        "\n",
        "print(f\"total accuracy: { acc *100 :0.2f}, accuracy on malware: {mal_acc * 100 :0.2f}, accuracy on freeware: {free_acc * 100 :0.2f}\")\n",
        "\n",
        "param_size = 0\n",
        "for param in malcopy_qweights.parameters():\n",
        "    param_size += param.nelement() * param.element_size()\n",
        "buffer_size = 0\n",
        "for buffer in malconv.buffers():\n",
        "    buffer_size += buffer.nelement() * buffer.element_size()\n",
        "\n",
        "size_all_mb = (param_size + buffer_size) / 1024**2\n",
        "print('model size: {:.3f}MB'.format(size_all_mb)) #N=300"
      ],
      "metadata": {
        "colab": {
          "base_uri": "https://localhost:8080/"
        },
        "id": "sfk9RcQeDzaN",
        "outputId": "65799129-225f-42d1-cdd8-c30d305be351"
      },
      "execution_count": 82,
      "outputs": [
        {
          "output_type": "stream",
          "name": "stdout",
          "text": [
            "total accuracy: 73.04, accuracy on malware: 0.00, accuracy on freeware: 100.00\n",
            "model size: 3.979MB\n"
          ]
        }
      ]
    },
    {
      "cell_type": "code",
      "source": [
        "np.mean(mal_dat['inference_times'])"
      ],
      "metadata": {
        "colab": {
          "base_uri": "https://localhost:8080/"
        },
        "id": "1wdZxMTgBzEv",
        "outputId": "9e979c9d-3dba-4778-bdc6-ab9184cf85ee"
      },
      "execution_count": 50,
      "outputs": [
        {
          "output_type": "execute_result",
          "data": {
            "text/plain": [
              "0.620226439657262"
            ]
          },
          "metadata": {},
          "execution_count": 50
        }
      ]
    },
    {
      "cell_type": "code",
      "source": [
        "q_times = mal_dat['inference_times']"
      ],
      "metadata": {
        "id": "tgoLCK9mInsN"
      },
      "execution_count": 68,
      "outputs": []
    },
    {
      "cell_type": "code",
      "source": [
        "mal_dat"
      ],
      "metadata": {
        "colab": {
          "base_uri": "https://localhost:8080/"
        },
        "id": "ZMIAJDqPAqiF",
        "outputId": "a6c3feb6-c187-417d-af94-518f05fe343e"
      },
      "execution_count": 83,
      "outputs": [
        {
          "output_type": "execute_result",
          "data": {
            "text/plain": [
              "{'correct_malware': 0,\n",
              " 'correct_freeware': 409,\n",
              " 'total_malware': 151,\n",
              " 'total_freeware': 409,\n",
              " 'inference_times': [1.5885531200001424,\n",
              "  0.5791946790000111,\n",
              "  0.5304137329999321,\n",
              "  0.5189460730002793,\n",
              "  0.5120459650001976,\n",
              "  0.5169230999999854,\n",
              "  0.7807950169999458,\n",
              "  0.5128733189999366,\n",
              "  0.5195451690001391,\n",
              "  0.5093400249998012,\n",
              "  0.8010557500001596,\n",
              "  0.7895170830001916,\n",
              "  0.8221108380002988,\n",
              "  0.5190550420002182,\n",
              "  0.48212876500019775,\n",
              "  0.5315991960001156,\n",
              "  0.5265896099999736,\n",
              "  0.5174463659996036,\n",
              "  0.5282097680001243,\n",
              "  0.531420283999978,\n",
              "  0.4979190220001328,\n",
              "  0.5268564180000794,\n",
              "  0.5384868179999103,\n",
              "  0.9443384890000743,\n",
              "  0.8822243740000886,\n",
              "  0.8144407159998082,\n",
              "  0.515472401000352,\n",
              "  0.5019506990001901,\n",
              "  0.5178812320000361,\n",
              "  0.48670612200021424,\n",
              "  0.5366068509997604,\n",
              "  0.528551034999964,\n",
              "  0.49233924200007095,\n",
              "  0.5215214209997612,\n",
              "  0.5278435580003134,\n",
              "  0.5226046160000806,\n",
              "  0.7474947489999977,\n",
              "  0.8471274240000639,\n",
              "  0.8126383450003232,\n",
              "  0.807249985999988,\n",
              "  0.542932472999837,\n",
              "  0.5411254770001506,\n",
              "  0.485693480000009,\n",
              "  0.5335425690000193,\n",
              "  0.5402274699999907,\n",
              "  0.49461211600009847,\n",
              "  0.5281650990000344,\n",
              "  0.5459830009999678,\n",
              "  0.5320761809998658,\n",
              "  0.5102130560003388,\n",
              "  0.8741728899999544,\n",
              "  0.8004421590003403,\n",
              "  0.8514372380000168,\n",
              "  0.5098161060000166,\n",
              "  0.5245561790002284,\n",
              "  0.4882939450003505,\n",
              "  0.534816150000097,\n",
              "  0.5215169990001414,\n",
              "  0.521500253999875,\n",
              "  0.4855601210001623,\n",
              "  0.5077900749997752,\n",
              "  0.5168991810000989,\n",
              "  0.5315059709996603,\n",
              "  0.7037060759998894,\n",
              "  0.8433943079999153,\n",
              "  0.8276531999999861,\n",
              "  0.7095084299999144,\n",
              "  0.5229989859999478,\n",
              "  0.5336620370003402,\n",
              "  0.48975310100013303,\n",
              "  0.47838455600003726,\n",
              "  0.5387193490000755,\n",
              "  0.47886639099988315,\n",
              "  0.5465861439997752,\n",
              "  0.5216336369999226,\n",
              "  0.5323885819998395,\n",
              "  0.5263356320001549,\n",
              "  0.9458199269997749,\n",
              "  0.8670290059999388,\n",
              "  0.7543629339998006,\n",
              "  0.5495718659999511,\n",
              "  0.5064495380001972,\n",
              "  0.5125195649998204,\n",
              "  0.5286384949999956,\n",
              "  0.5177433369999562,\n",
              "  0.5203723380000156,\n",
              "  0.5256600120001167,\n",
              "  0.5452826159998949,\n",
              "  0.5131083259998377,\n",
              "  0.49382207600001493,\n",
              "  0.6881241190003493,\n",
              "  0.9648750290002681,\n",
              "  1.7947174730002189,\n",
              "  0.5413335279999956,\n",
              "  0.5406804429999283,\n",
              "  0.5200032200000351,\n",
              "  0.5542095289997633,\n",
              "  0.5163699509998878,\n",
              "  0.5337436600002547,\n",
              "  0.5423742009998023,\n",
              "  0.5199498329998278,\n",
              "  0.509915220000039,\n",
              "  0.6395652930000324,\n",
              "  0.9500169420002749,\n",
              "  0.937543936000111,\n",
              "  0.8886306209997201,\n",
              "  0.5166115530000752,\n",
              "  0.5395607860000382,\n",
              "  0.5161885570000777,\n",
              "  0.5310622160000094,\n",
              "  0.5382377239998277,\n",
              "  0.5600147629997991,\n",
              "  0.5180263760003072,\n",
              "  0.5042276049998691,\n",
              "  0.5268097559996932,\n",
              "  0.5050875349998023,\n",
              "  0.9240562469999531,\n",
              "  0.9348686369999086,\n",
              "  0.8386930750002648,\n",
              "  0.5005486079999173,\n",
              "  0.5172057660001883,\n",
              "  0.5282607509998343,\n",
              "  0.48445974300011585,\n",
              "  0.5103199010000026,\n",
              "  0.5202849570000581,\n",
              "  0.5148121930001253,\n",
              "  0.5046641319995615,\n",
              "  0.5178624870000021,\n",
              "  0.5237417429998459,\n",
              "  0.8122313989997565,\n",
              "  0.8698778520001724,\n",
              "  0.8625577539996812,\n",
              "  0.5230950410000332,\n",
              "  0.5273245439998391,\n",
              "  0.508156579000115,\n",
              "  0.5271641750000526,\n",
              "  0.4894305420002638,\n",
              "  0.5041135429996757,\n",
              "  0.6161933930002306,\n",
              "  0.5301895180000429,\n",
              "  0.5075565199999801,\n",
              "  0.6050244139996721,\n",
              "  0.9038228409999647,\n",
              "  0.8743009290001282,\n",
              "  0.7717224090001764,\n",
              "  0.5287383119998594,\n",
              "  0.5312054980004177,\n",
              "  0.5125625779996881,\n",
              "  0.5257506500001909,\n",
              "  0.5304349879997972,\n",
              "  0.5253467110001111,\n",
              "  0.48470563299997593,\n",
              "  0.51601590700011,\n",
              "  0.5190183059999072,\n",
              "  0.5039242409998224,\n",
              "  0.8118090540001504,\n",
              "  0.9553958870001225,\n",
              "  0.8754389529999571,\n",
              "  0.5244025869997131,\n",
              "  0.5207945970000765,\n",
              "  0.5246848209999371,\n",
              "  0.4951202749998629,\n",
              "  0.5053455279999071,\n",
              "  0.5192068530000142,\n",
              "  0.4393160730001,\n",
              "  0.5335162430001219,\n",
              "  0.5329528810002557,\n",
              "  0.5214124170001924,\n",
              "  0.9066072119999262,\n",
              "  0.9247172970003703,\n",
              "  0.7922938980000254,\n",
              "  0.5716649790001611,\n",
              "  0.5304061000001639,\n",
              "  0.5115254669999558,\n",
              "  0.5146499490001588,\n",
              "  0.5124918250003248,\n",
              "  0.5136090209998656,\n",
              "  0.5180327150001176,\n",
              "  0.48157365199995184,\n",
              "  0.5050443300001461,\n",
              "  0.5375322240001879,\n",
              "  0.5745194170003742,\n",
              "  0.8642067159998987,\n",
              "  0.9163424690000284,\n",
              "  0.8045096470000317,\n",
              "  0.5972518840003431,\n",
              "  0.6046793740001704,\n",
              "  0.5438311519997114,\n",
              "  0.5214068380000754,\n",
              "  0.5288688320001711,\n",
              "  0.5305754129999514,\n",
              "  0.5261421340001107,\n",
              "  0.5063817590003055,\n",
              "  0.5328690209998967,\n",
              "  0.5105630410002959,\n",
              "  0.8694089149998945,\n",
              "  0.813463160000083,\n",
              "  0.8480138469999474,\n",
              "  0.5153940139998667,\n",
              "  0.5172685349998574,\n",
              "  0.5063283790000241,\n",
              "  0.5386439379999501,\n",
              "  0.49527295799998683,\n",
              "  0.5109922699998606,\n",
              "  0.5090577420000955,\n",
              "  0.5178903470000478,\n",
              "  0.5111302700001943,\n",
              "  0.4993505849997746,\n",
              "  0.6056239760000608,\n",
              "  0.8768071829999826,\n",
              "  0.9301965350000501,\n",
              "  0.5879046119998748,\n",
              "  0.5089919299998655,\n",
              "  0.5366756490002444,\n",
              "  0.5080823450002754,\n",
              "  0.5395393899998453,\n",
              "  0.5071388330002264,\n",
              "  0.5202060470001015,\n",
              "  0.5176326320001863,\n",
              "  0.5051723379997384,\n",
              "  0.5284593490000589,\n",
              "  0.5435078410000642,\n",
              "  0.8282673749999958,\n",
              "  0.9378764470002352,\n",
              "  0.8919927480001206,\n",
              "  0.5435789900002419,\n",
              "  0.5107000269999844,\n",
              "  0.5368782479999936,\n",
              "  0.5316845600000306,\n",
              "  0.523438649000127,\n",
              "  0.5272722559998329,\n",
              "  0.5437128840003425,\n",
              "  0.5333835650003493,\n",
              "  0.5260194930001489,\n",
              "  0.4896044320003057,\n",
              "  0.9157779039996967,\n",
              "  0.946571515999949,\n",
              "  0.8900225709999177,\n",
              "  0.5343844939998235,\n",
              "  0.5218763670000044,\n",
              "  0.5382048530000247,\n",
              "  0.5184524819997023,\n",
              "  0.5325838939997993,\n",
              "  0.573981343000014,\n",
              "  0.5344869179998568,\n",
              "  0.5360802329996659,\n",
              "  0.5063713269996697,\n",
              "  0.5288382079997973,\n",
              "  0.7925751309999214,\n",
              "  0.837825241000246,\n",
              "  0.7332784310001443,\n",
              "  0.7080654129999857,\n",
              "  0.5614959380000073,\n",
              "  0.5159854890002862,\n",
              "  0.503885253000135,\n",
              "  0.5001322160001109,\n",
              "  0.5060373840001375,\n",
              "  0.5085521309997603,\n",
              "  0.5283207469997251,\n",
              "  0.5354885739998281,\n",
              "  0.49607449599989195,\n",
              "  0.5645425810002962,\n",
              "  0.8597459829998115,\n",
              "  0.8540796420002152,\n",
              "  0.7934150869996301,\n",
              "  0.5263655150001796,\n",
              "  0.522660853999696,\n",
              "  0.5245161339998958,\n",
              "  0.5225351689996387,\n",
              "  0.5060613720002038,\n",
              "  0.5312027760001001,\n",
              "  0.47172244900002624,\n",
              "  0.5350378849998378,\n",
              "  0.5144478810002511,\n",
              "  0.5383481750000101,\n",
              "  0.7913401269997848,\n",
              "  0.7411957799999982,\n",
              "  0.9124062740002046,\n",
              "  0.504454092999822,\n",
              "  0.5309914800000115,\n",
              "  0.5425172320001366,\n",
              "  0.5050098800002161,\n",
              "  0.518971364999743,\n",
              "  0.5028077940000912,\n",
              "  0.5028903369998261,\n",
              "  0.5006544220000251,\n",
              "  0.5161887379999825,\n",
              "  0.5083059149997098,\n",
              "  0.5298535010001615,\n",
              "  0.8126974349997909,\n",
              "  0.8519838669999444,\n",
              "  0.7088461690000258,\n",
              "  0.5070874429998184,\n",
              "  0.531577999000092,\n",
              "  0.5375941339998462,\n",
              "  0.5078505279998353,\n",
              "  0.5254251279998243,\n",
              "  0.5120159699999931,\n",
              "  0.5153462299999774,\n",
              "  0.5059241399999337,\n",
              "  0.4919699299998683,\n",
              "  0.543021637000038,\n",
              "  0.8079974970000876,\n",
              "  0.8069941869998729,\n",
              "  0.963761814999998,\n",
              "  0.5741250190003484,\n",
              "  0.5410886639997443,\n",
              "  0.5285418670000581,\n",
              "  0.5163494510002238,\n",
              "  0.5048070840002765,\n",
              "  0.5248135520000687,\n",
              "  0.5133748510002079,\n",
              "  0.5060781569995925,\n",
              "  0.5100385989999268,\n",
              "  0.5158615850000388,\n",
              "  0.5206923820001066,\n",
              "  0.8785948650001956,\n",
              "  0.843085518999942,\n",
              "  0.8919757200001186,\n",
              "  0.5156067640000401,\n",
              "  0.5065713459998733,\n",
              "  0.5188194689999364,\n",
              "  0.5147016149999217,\n",
              "  0.4620670690001134,\n",
              "  0.45057170100017174,\n",
              "  0.5275792229999752,\n",
              "  0.5154243100000713,\n",
              "  0.49503081900002144,\n",
              "  0.5361931370002821,\n",
              "  0.7942351860001509,\n",
              "  0.8742004409996298,\n",
              "  0.8042111419999856,\n",
              "  0.523270586000308,\n",
              "  0.49622332199987795,\n",
              "  0.4843342140002278,\n",
              "  0.4956099669998366,\n",
              "  0.5128710240001055,\n",
              "  0.5123053830002391,\n",
              "  0.5260987449996719,\n",
              "  0.5260783240000819,\n",
              "  0.5259274039999582,\n",
              "  0.5072570649999761,\n",
              "  0.6381936109996786,\n",
              "  0.891214613000102,\n",
              "  0.777694639999936,\n",
              "  0.6666831990000901,\n",
              "  0.5335752609998963,\n",
              "  0.48194619000014427,\n",
              "  0.5370009099997333,\n",
              "  0.5221222190002663,\n",
              "  0.5338723770000797,\n",
              "  0.4370569190000424,\n",
              "  0.5241471809999894,\n",
              "  0.5273451829998521,\n",
              "  0.5218605029999708,\n",
              "  0.5391247819998171,\n",
              "  0.9705200009998407,\n",
              "  1.0118148770002335,\n",
              "  0.8741501519998565,\n",
              "  0.525793571000122,\n",
              "  0.49820352799997636,\n",
              "  0.5128015509999386,\n",
              "  0.49967931400033194,\n",
              "  0.5045157160002418,\n",
              "  0.49930673000017123,\n",
              "  0.4881701270001031,\n",
              "  0.507756038000025,\n",
              "  0.533544062999681,\n",
              "  0.5182484770002702,\n",
              "  0.7313335349999761,\n",
              "  1.0679603749999842,\n",
              "  0.6854326300003777,\n",
              "  0.5866475940001692,\n",
              "  0.5489633020001747,\n",
              "  0.5504349909997472,\n",
              "  0.5196300319998954,\n",
              "  0.5110224609998113,\n",
              "  0.5354532460000883,\n",
              "  0.5104540409997753,\n",
              "  0.4614361049998479,\n",
              "  0.5122144779998052,\n",
              "  0.5216469289998713,\n",
              "  0.4512060769998243,\n",
              "  0.9240692440002931,\n",
              "  0.873117275000368,\n",
              "  0.8967240070001026,\n",
              "  0.5083743919999506,\n",
              "  0.5107575449997057,\n",
              "  0.49428129800026,\n",
              "  0.5074126139998043,\n",
              "  0.5281868970000687,\n",
              "  0.5171675500000674,\n",
              "  0.502192124999965,\n",
              "  0.5081672989999788,\n",
              "  0.5109922690003259,\n",
              "  0.522418339000069,\n",
              "  0.6580575909997606,\n",
              "  0.9727816910003639,\n",
              "  0.8226006449999659,\n",
              "  0.785100446999877,\n",
              "  0.533936740000172,\n",
              "  0.5231873220000125,\n",
              "  0.5314674510000259,\n",
              "  0.45836663899990526,\n",
              "  0.5224210570004288,\n",
              "  0.488851140999941,\n",
              "  0.5239698279997356,\n",
              "  0.521192302000145,\n",
              "  0.524358613000004,\n",
              "  0.42105256700006066,\n",
              "  0.5849931809998452,\n",
              "  1.1690539000001081,\n",
              "  0.9083505849998801,\n",
              "  0.5167319810002482,\n",
              "  0.5034526800000094,\n",
              "  0.5123301769999671,\n",
              "  0.504228423999848,\n",
              "  0.4806438119999257,\n",
              "  0.4450869440001952,\n",
              "  0.5139863029999105,\n",
              "  0.510784896000132,\n",
              "  0.4953890120000324,\n",
              "  0.5261048389997995,\n",
              "  0.6355961979998028,\n",
              "  0.9076873290000549,\n",
              "  0.9059547790002398,\n",
              "  0.7838391099999171,\n",
              "  0.5158633989999544,\n",
              "  0.5414094249999835,\n",
              "  0.5457349560001603,\n",
              "  0.4828270790003444,\n",
              "  0.5205166289997578,\n",
              "  0.5323525829999198,\n",
              "  0.5287226089999422,\n",
              "  0.46308162099967376,\n",
              "  0.7012574459999996,\n",
              "  0.6364679309999701,\n",
              "  0.9079961379998167,\n",
              "  0.9767929179997736,\n",
              "  0.7305971050000153,\n",
              "  0.5111174090002351,\n",
              "  0.5329200910000509,\n",
              "  0.5030130820000522,\n",
              "  0.5138702330000342,\n",
              "  0.5247655610000947,\n",
              "  0.5092398870001489,\n",
              "  0.5698746539997046,\n",
              "  0.4784251940000104,\n",
              "  0.5240626750000956,\n",
              "  0.4922931559999597,\n",
              "  0.7277022659995964,\n",
              "  0.8622930739998083,\n",
              "  0.8170336180000959,\n",
              "  0.5213767190002727,\n",
              "  0.5218988040001022,\n",
              "  0.5132172909998189,\n",
              "  0.4790954619998047,\n",
              "  0.5156000349998067,\n",
              "  0.5006730860000062,\n",
              "  0.4948959400003332,\n",
              "  0.5233804730000884,\n",
              "  0.4810331390003739,\n",
              "  0.4680905109999003,\n",
              "  0.5360316219998822,\n",
              "  0.8307790570001998,\n",
              "  0.7431941509998978,\n",
              "  0.8765353799999502,\n",
              "  0.504693357999713,\n",
              "  0.5104510020000816,\n",
              "  0.530424690000018,\n",
              "  0.5140544380001302,\n",
              "  0.5143178890002673,\n",
              "  0.48646921399995335,\n",
              "  0.48734602500007895,\n",
              "  0.47538371100017685,\n",
              "  0.5012075889999323,\n",
              "  0.44801842100014255,\n",
              "  0.6067585619998681,\n",
              "  0.9049233480000112,\n",
              "  0.8340484240002297,\n",
              "  0.8320442720000756,\n",
              "  0.5073646750001899,\n",
              "  0.49163750999969125,\n",
              "  0.5113114730002053,\n",
              "  0.5053215140001157,\n",
              "  0.5112361080000483,\n",
              "  0.4491015270000389,\n",
              "  0.5175889899996946,\n",
              "  0.5189919150002424,\n",
              "  0.5180910939998284,\n",
              "  0.4992013350001798,\n",
              "  0.7707760650000637,\n",
              "  1.6900158739999824,\n",
              "  1.99926848899986,\n",
              "  1.424420039999859,\n",
              "  1.3683037979999426,\n",
              "  1.3496983549998731,\n",
              "  1.226806828000008,\n",
              "  0.9745914770001036,\n",
              "  0.8981026709998332,\n",
              "  0.6038625840001259,\n",
              "  0.5400186450001456,\n",
              "  0.5372410509999099,\n",
              "  0.5376311300001362,\n",
              "  0.5497849690000294,\n",
              "  0.5424678160002259,\n",
              "  0.514523754000038,\n",
              "  0.5531435020002391,\n",
              "  0.5208314249998693,\n",
              "  0.5200315349998164,\n",
              "  0.7102207160000944,\n",
              "  0.908957898999688,\n",
              "  1.0040120469998328,\n",
              "  0.5863894270000856,\n",
              "  0.523905976000151,\n",
              "  0.5205623829997421,\n",
              "  0.484717210999861,\n",
              "  0.5479567729998962,\n",
              "  0.5394252290002441,\n",
              "  0.5292164030001913,\n",
              "  0.5401444379999703,\n",
              "  0.5408025699998689,\n",
              "  0.5391037099998357,\n",
              "  0.9286043829997652,\n",
              "  0.9122072500003924,\n",
              "  0.8624089859999913,\n",
              "  0.554642733000037,\n",
              "  0.5340647839998383,\n",
              "  0.5468483160002506,\n",
              "  0.5506687040001452,\n",
              "  0.5462798459998339,\n",
              "  0.5558681640000032,\n",
              "  0.5518927289999738,\n",
              "  0.5794162120000692,\n",
              "  0.5395964040003491,\n",
              "  0.5611870699999599,\n",
              "  0.8474375280002278,\n",
              "  0.9747693719996278,\n",
              "  0.8930999479998718,\n",
              "  0.5451936059998843,\n",
              "  0.47399131400015904,\n",
              "  0.5620688300000438,\n",
              "  0.5353727689998777,\n",
              "  0.5714602819998618,\n",
              "  0.5716297000003578,\n",
              "  0.5523888060001809,\n",
              "  0.5721752169997671,\n",
              "  0.5392859749999843,\n",
              "  0.5553216999996948,\n",
              "  0.902657864000048,\n",
              "  0.9304239090001829,\n",
              "  0.8278669360001913,\n",
              "  0.5295371789998171,\n",
              "  0.5467899049999687,\n",
              "  0.5347552690000157,\n",
              "  0.5293222079999396,\n",
              "  0.5414271459999327,\n",
              "  0.4647108039998784,\n",
              "  0.5501284669999222,\n",
              "  0.5358572039999672]}"
            ]
          },
          "metadata": {},
          "execution_count": 83
        }
      ]
    },
    {
      "cell_type": "code",
      "source": [
        "plt.hist(mal_dat['inference_times'])\n"
      ],
      "metadata": {
        "colab": {
          "base_uri": "https://localhost:8080/",
          "height": 519
        },
        "id": "C0fvsq-sIS_v",
        "outputId": "50936458-6e85-4798-a533-dea565c432d8"
      },
      "execution_count": 63,
      "outputs": [
        {
          "output_type": "execute_result",
          "data": {
            "text/plain": [
              "(array([409.,  31.,  72.,  38.,   2.,   2.,   2.,   1.,   2.,   1.]),\n",
              " array([0.42105257, 0.57887416, 0.73669575, 0.89451734, 1.05233894,\n",
              "        1.21016053, 1.36798212, 1.52580371, 1.6836253 , 1.8414469 ,\n",
              "        1.99926849]),\n",
              " <BarContainer object of 10 artists>)"
            ]
          },
          "metadata": {},
          "execution_count": 63
        },
        {
          "output_type": "display_data",
          "data": {
            "text/plain": [
              "<Figure size 640x480 with 1 Axes>"
            ],
            "image/png": "[encoded data removed]"
          },
          "metadata": {}
        }
      ]
    },
    {
      "cell_type": "markdown",
      "source": [
        "# TorchScript"
      ],
      "metadata": {
        "id": "ljEasptu9eUz"
      }
    },
    {
      "cell_type": "code",
      "source": [
        "my_script_module = torch.jit.script(malcopy_qweights)"
      ],
      "metadata": {
        "id": "Rv1Hd6qQ9kQg"
      },
      "execution_count": 57,
      "outputs": []
    },
    {
      "cell_type": "code",
      "source": [
        "stats = get_stats(dataloader, my_script_module)\n",
        "with open('/content/gdrive/MyDrive/hpml_final_project/results/script_stats.pickle', 'wb') as handle:\n",
        "    pickle.dump(stats, handle, protocol=pickle.HIGHEST_PROTOCOL)"
      ],
      "metadata": {
        "id": "N9eqyvWgbqb7"
      },
      "execution_count": null,
      "outputs": []
    },
    {
      "cell_type": "code",
      "source": [
        "file = open(\"/content/gdrive/MyDrive/hpml_final_project/results/script_stats.pickle\", 'rb')\n",
        "mal_dat = pickle.load(file)\n",
        "acc = ( mal_dat[\"correct_malware\"] + mal_dat[\"correct_freeware\"] )/( mal_dat[\"total_malware\"] + mal_dat[\"total_freeware\"] )\n",
        "try:\n",
        "  mal_acc = mal_dat[\"correct_malware\"]/mal_dat[\"total_malware\"]\n",
        "except: \n",
        "  mal_acc = np.inf\n",
        "try:\n",
        "  free_acc = mal_dat[\"correct_freeware\"]/mal_dat[\"total_freeware\"]\n",
        "except:\n",
        "  free_acc = np.inf\n",
        "\n",
        "print(f\"total accuracy: { acc *100 :0.2f}, accuracy on malware: {mal_acc * 100 :0.2f}, accuracy on freeware: {free_acc * 100 :0.2f}\")"
      ],
      "metadata": {
        "colab": {
          "base_uri": "https://localhost:8080/"
        },
        "id": "eJR-AqJYDzRn",
        "outputId": "276659fc-2d34-4e8d-f513-c9953abb9181"
      },
      "execution_count": 84,
      "outputs": [
        {
          "output_type": "stream",
          "name": "stdout",
          "text": [
            "total accuracy: 74.01, accuracy on malware: 0.00, accuracy on freeware: 100.00\n"
          ]
        }
      ]
    },
    {
      "cell_type": "code",
      "source": [
        "mal_dat"
      ],
      "metadata": {
        "colab": {
          "base_uri": "https://localhost:8080/"
        },
        "id": "EJTVPSBuS2lb",
        "outputId": "b393e604-3b84-4dc8-e45f-82475a0fd050"
      },
      "execution_count": 85,
      "outputs": [
        {
          "output_type": "execute_result",
          "data": {
            "text/plain": [
              "{'correct_malware': 0,\n",
              " 'correct_freeware': 430,\n",
              " 'total_malware': 151,\n",
              " 'total_freeware': 430,\n",
              " 'inference_times': [0.8629682809996666,\n",
              "  0.6402689250007825,\n",
              "  0.5314809020001121,\n",
              "  0.5252511030003006,\n",
              "  0.5073219739997512,\n",
              "  0.5224156029998994,\n",
              "  0.5154452520000632,\n",
              "  0.5168032980000135,\n",
              "  0.6958615610001289,\n",
              "  0.906453823999982,\n",
              "  0.8673191670004599,\n",
              "  0.7260374600000432,\n",
              "  0.5186438519995136,\n",
              "  0.5241441950001899,\n",
              "  0.5178580379997584,\n",
              "  0.5298915949997536,\n",
              "  0.503945862999899,\n",
              "  0.5518816619996869,\n",
              "  0.5202376259994708,\n",
              "  0.5258234700004323,\n",
              "  0.5238778410002851,\n",
              "  0.5624105560000316,\n",
              "  0.8837276580006801,\n",
              "  0.8599293799998122,\n",
              "  0.9267277990002185,\n",
              "  0.51589548299944,\n",
              "  0.5364860280005814,\n",
              "  0.525290892999692,\n",
              "  0.5709408269995038,\n",
              "  0.5293604899998172,\n",
              "  0.5368876309994448,\n",
              "  0.5241913090003436,\n",
              "  0.5607277720000639,\n",
              "  0.516383472000598,\n",
              "  0.5244040659999882,\n",
              "  0.9272704479999447,\n",
              "  0.9095684550002261,\n",
              "  0.8575522420005655,\n",
              "  0.5269365909998669,\n",
              "  0.5434923410002739,\n",
              "  0.5471362440002849,\n",
              "  0.5396369170002799,\n",
              "  0.5374773580006149,\n",
              "  0.5277145230002134,\n",
              "  0.5319791960000657,\n",
              "  0.5196658389995719,\n",
              "  0.5238099499993041,\n",
              "  0.5162085120000484,\n",
              "  0.9712968860003457,\n",
              "  0.8978746009997849,\n",
              "  0.7405773939999563,\n",
              "  0.5034476490000088,\n",
              "  0.4937503029996151,\n",
              "  0.5526272409997546,\n",
              "  0.5288172500004293,\n",
              "  0.5252541680001741,\n",
              "  0.5734462190002887,\n",
              "  0.5260940560001472,\n",
              "  0.5166125779996946,\n",
              "  0.526407265000671,\n",
              "  0.5222435010000481,\n",
              "  0.8932613529996161,\n",
              "  0.9706726619997426,\n",
              "  0.8252442570001222,\n",
              "  0.521632595000483,\n",
              "  0.5182798619998721,\n",
              "  0.5331255779992716,\n",
              "  0.5155373349998627,\n",
              "  0.5288330419998601,\n",
              "  0.5192583299995022,\n",
              "  0.5275524880007652,\n",
              "  0.5205012470005386,\n",
              "  0.5260777869998492,\n",
              "  0.5015649549995942,\n",
              "  0.7645550429997456,\n",
              "  0.9689306350001061,\n",
              "  0.8473914730002434,\n",
              "  0.5296357389997866,\n",
              "  0.5223134279995065,\n",
              "  0.5234647710003628,\n",
              "  0.5284865430003265,\n",
              "  0.5330163850003373,\n",
              "  0.5898168560006525,\n",
              "  0.5287521549998928,\n",
              "  0.5065486829998918,\n",
              "  0.5110375980002573,\n",
              "  0.5517876829999295,\n",
              "  0.8667531949995464,\n",
              "  0.8554232679998677,\n",
              "  0.8014048710001589,\n",
              "  0.5501143000001321,\n",
              "  0.662868743999752,\n",
              "  0.5182948339997893,\n",
              "  0.5525422809996599,\n",
              "  0.5123956530005671,\n",
              "  0.5188000160005686,\n",
              "  0.5094805619992258,\n",
              "  0.4987634850003815,\n",
              "  0.5391083920003439,\n",
              "  0.510920638999778,\n",
              "  0.6345947339996201,\n",
              "  0.8305182149997563,\n",
              "  0.9018660259998796,\n",
              "  0.7609911879999345,\n",
              "  0.5157313700001396,\n",
              "  0.557002819000445,\n",
              "  0.5272645429995464,\n",
              "  0.5031817239996599,\n",
              "  0.531424839000465,\n",
              "  0.5013735909997195,\n",
              "  0.526602830000229,\n",
              "  0.5273771689999194,\n",
              "  0.526569075000225,\n",
              "  0.5094153310001275,\n",
              "  0.907954912000605,\n",
              "  0.8978140799999892,\n",
              "  0.9151236050001899,\n",
              "  0.5064711300001363,\n",
              "  0.5450846880003155,\n",
              "  0.5105182199995397,\n",
              "  0.5157156690002012,\n",
              "  0.5124190300002738,\n",
              "  0.502716111999689,\n",
              "  0.4979117170005338,\n",
              "  0.5016610789998595,\n",
              "  0.5257483360001061,\n",
              "  0.5250324250000631,\n",
              "  0.571621750000304,\n",
              "  0.8101555989996996,\n",
              "  0.8894909599994207,\n",
              "  0.858844063000106,\n",
              "  0.5110461399999622,\n",
              "  0.5278955969997696,\n",
              "  0.5189057279994813,\n",
              "  0.5281837539996559,\n",
              "  0.5290801729997838,\n",
              "  0.5183003140000437,\n",
              "  0.5072858550001911,\n",
              "  0.5264807490002568,\n",
              "  0.535827294000228,\n",
              "  0.5074178000004395,\n",
              "  0.6602031579996037,\n",
              "  0.7466052820000186,\n",
              "  0.8608265579996441,\n",
              "  0.7366244100003314,\n",
              "  0.5076774829994974,\n",
              "  0.512393666999742,\n",
              "  0.4976036429998203,\n",
              "  0.5023440519998985,\n",
              "  0.502239790999738,\n",
              "  0.4899877589996322,\n",
              "  0.526761114000692,\n",
              "  0.5189334110000345,\n",
              "  0.5198158020002666,\n",
              "  0.5127336349996767,\n",
              "  0.7939748899998449,\n",
              "  0.7620370149998053,\n",
              "  0.8970035539996388,\n",
              "  0.6520994339998651,\n",
              "  0.4994081949998872,\n",
              "  0.6468319409996184,\n",
              "  0.5138809740001307,\n",
              "  0.5178040549999423,\n",
              "  0.509014928000397,\n",
              "  0.5089414489993942,\n",
              "  0.5004087170000275,\n",
              "  0.5226988020003773,\n",
              "  0.5068675559996336,\n",
              "  0.5240326100001766,\n",
              "  0.9082102510001278,\n",
              "  0.8106730159997824,\n",
              "  0.8617248029995608,\n",
              "  0.521206377999988,\n",
              "  0.4982266540000637,\n",
              "  0.4990535369997815,\n",
              "  0.5023383679999824,\n",
              "  0.517000564999762,\n",
              "  0.5618800959991859,\n",
              "  0.44955592599944794,\n",
              "  0.518815796999661,\n",
              "  0.5186240200000611,\n",
              "  0.508067925999967,\n",
              "  0.6797485329998381,\n",
              "  0.8515251660001013,\n",
              "  0.8451503639998919,\n",
              "  0.7265915360003419,\n",
              "  0.5098662670006888,\n",
              "  0.5185864069999297,\n",
              "  0.5165666040002179,\n",
              "  0.4973216649996175,\n",
              "  0.5240293939996263,\n",
              "  0.5105331049999222,\n",
              "  0.5080574169996908,\n",
              "  0.5035072240007139,\n",
              "  0.47677724700042745,\n",
              "  0.5264463440007603,\n",
              "  0.8093913549992067,\n",
              "  0.8704752319999898,\n",
              "  0.6782314510001015,\n",
              "  0.5693223810003474,\n",
              "  0.5114248230001976,\n",
              "  0.5648786309993739,\n",
              "  0.5275041300001249,\n",
              "  0.533904010999322,\n",
              "  0.5149585660001321,\n",
              "  0.5225789989999612,\n",
              "  0.5047483159996773,\n",
              "  0.5011697339996317,\n",
              "  0.5015450119999514,\n",
              "  0.5281189940005788,\n",
              "  0.7638035130003118,\n",
              "  0.8259149730001809,\n",
              "  0.8819247940000423,\n",
              "  0.5009598449996702,\n",
              "  0.5122096630002488,\n",
              "  0.5085989259996495,\n",
              "  0.5035628989999168,\n",
              "  0.524561549000282,\n",
              "  0.513591414000075,\n",
              "  0.4937567010001658,\n",
              "  0.535303894000208,\n",
              "  0.5073955170000772,\n",
              "  0.5034845700001824,\n",
              "  0.5488184280002315,\n",
              "  0.890179354000793,\n",
              "  0.8859416400000555,\n",
              "  0.8456387460000769,\n",
              "  0.5115614650003408,\n",
              "  0.492789406999691,\n",
              "  0.5102193450002233,\n",
              "  0.5098378399998182,\n",
              "  0.49844513999960327,\n",
              "  0.5041818159998002,\n",
              "  0.5143530880004619,\n",
              "  0.5125887039994268,\n",
              "  0.5152990110000246,\n",
              "  0.5193296020006528,\n",
              "  0.6718726779999997,\n",
              "  0.8465708740004629,\n",
              "  0.9280410860001211,\n",
              "  0.6442437089999657,\n",
              "  0.5355700519994571,\n",
              "  0.5321411439999792,\n",
              "  0.5292815989996598,\n",
              "  0.5004494170007092,\n",
              "  0.5131985949992668,\n",
              "  0.5112793309999688,\n",
              "  0.4590697129997352,\n",
              "  0.5303559789999781,\n",
              "  0.5421545569997761,\n",
              "  0.5059724149996327,\n",
              "  0.9250130910004373,\n",
              "  0.837172186999851,\n",
              "  0.7894809819999864,\n",
              "  0.5043110659999002,\n",
              "  0.527541014000235,\n",
              "  0.4992266679992099,\n",
              "  0.5102881740003795,\n",
              "  0.5210105430005569,\n",
              "  0.5494999669999743,\n",
              "  0.5082931320002899,\n",
              "  0.5288422749999881,\n",
              "  0.5158472619996246,\n",
              "  0.49276122199989913,\n",
              "  0.6194823699997869,\n",
              "  0.8860011589995338,\n",
              "  0.9608229319992461,\n",
              "  0.7315025349998905,\n",
              "  0.49840845499966235,\n",
              "  0.5070251790002658,\n",
              "  0.49771480599974893,\n",
              "  0.5071534240005349,\n",
              "  0.5060044600004403,\n",
              "  0.5068185379996066,\n",
              "  0.5054881930000192,\n",
              "  0.5137961509999514,\n",
              "  0.49733713699970394,\n",
              "  0.5296393810003792,\n",
              "  0.8124660619996575,\n",
              "  0.9265472939996471,\n",
              "  1.0468149019998236,\n",
              "  0.5248905530006596,\n",
              "  0.5062189549998948,\n",
              "  0.540375954999945,\n",
              "  0.5140354559998741,\n",
              "  0.5095248050001828,\n",
              "  0.5085956329994588,\n",
              "  0.49226937200000975,\n",
              "  0.5027007009994122,\n",
              "  0.4998226719999366,\n",
              "  0.5111760979998508,\n",
              "  0.5055605779998587,\n",
              "  0.8679541869996683,\n",
              "  0.9694681630007835,\n",
              "  0.8321168430002217,\n",
              "  0.5231953749998866,\n",
              "  0.48350461300015013,\n",
              "  0.5013146599994798,\n",
              "  0.4893076739999742,\n",
              "  0.5078287779997481,\n",
              "  0.5153744270000971,\n",
              "  0.5050921669999298,\n",
              "  0.5149349579996851,\n",
              "  0.4863420749998113,\n",
              "  0.4990599220000149,\n",
              "  0.5289880450000055,\n",
              "  0.9176048720000836,\n",
              "  0.8618668760000219,\n",
              "  0.7864632129994789,\n",
              "  0.5004771940002684,\n",
              "  0.496848544000386,\n",
              "  0.49984458800008724,\n",
              "  0.4959069019996605,\n",
              "  0.4944479940004385,\n",
              "  0.49540417800017167,\n",
              "  0.49731414199959545,\n",
              "  0.5372405890002483,\n",
              "  0.5164116940004533,\n",
              "  0.5125107220001155,\n",
              "  0.7123672840007202,\n",
              "  0.8345229159995142,\n",
              "  0.7966529370005446,\n",
              "  0.821443410000029,\n",
              "  0.5045065330004945,\n",
              "  0.5110975300003702,\n",
              "  0.5101648359996034,\n",
              "  0.5295476159999453,\n",
              "  0.5021075260001453,\n",
              "  0.5003001820005011,\n",
              "  0.5036278509996919,\n",
              "  0.4975041850002526,\n",
              "  0.5000435329993707,\n",
              "  0.5266995829997541,\n",
              "  0.7331135939994056,\n",
              "  0.7959589969996159,\n",
              "  0.8827710839996143,\n",
              "  0.7514145529994494,\n",
              "  0.5024394229994869,\n",
              "  0.5065909330005525,\n",
              "  0.5084321929998623,\n",
              "  0.5208362820003458,\n",
              "  0.5377740130006714,\n",
              "  0.5249675260001823,\n",
              "  0.5214153019996957,\n",
              "  0.5128175529998771,\n",
              "  0.5073772739997366,\n",
              "  0.49393946300006064,\n",
              "  0.7636290380005448,\n",
              "  0.9064285380000001,\n",
              "  0.9541295669996543,\n",
              "  0.6011300789996312,\n",
              "  0.5011733129995264,\n",
              "  0.5146444779993544,\n",
              "  0.5045991099996172,\n",
              "  0.5065673669996613,\n",
              "  0.5135781319995658,\n",
              "  0.5065740870004447,\n",
              "  0.5398564910001369,\n",
              "  0.4487996349998866,\n",
              "  0.4996672600000238,\n",
              "  0.4974587219994646,\n",
              "  0.8758762120005485,\n",
              "  0.7833977649997905,\n",
              "  0.9340274650003266,\n",
              "  0.5475265710001622,\n",
              "  0.5327455930000724,\n",
              "  0.5091464650004127,\n",
              "  0.5080677079995439,\n",
              "  0.5024034380003286,\n",
              "  0.5253712859994266,\n",
              "  0.48825245199986966,\n",
              "  0.49890470300033485,\n",
              "  0.5251116290000937,\n",
              "  0.5142154620007204,\n",
              "  0.5454440449993854,\n",
              "  0.9853452970000944,\n",
              "  0.8333036849999189,\n",
              "  0.8994024379999246,\n",
              "  0.500475894000374,\n",
              "  0.5284695610007475,\n",
              "  0.5053753430001962,\n",
              "  0.5164378629997373,\n",
              "  0.5044505460000437,\n",
              "  0.5576927729998715,\n",
              "  0.5043767619999926,\n",
              "  0.49205569500009005,\n",
              "  0.516205717000048,\n",
              "  0.5071249829998123,\n",
              "  0.6441401820002284,\n",
              "  0.8288162339995324,\n",
              "  0.8613753050003652,\n",
              "  0.7416450700002315,\n",
              "  0.4890072449998115,\n",
              "  0.5022757099995943,\n",
              "  0.43944471100076044,\n",
              "  0.5102363729993158,\n",
              "  0.5223451559995738,\n",
              "  0.5022583210002267,\n",
              "  0.5120726470004229,\n",
              "  0.5143701320002947,\n",
              "  0.5045473230002244,\n",
              "  0.5056587190001665,\n",
              "  0.8922306710001067,\n",
              "  0.8679632029998174,\n",
              "  0.8611775279996436,\n",
              "  0.592899713999941,\n",
              "  0.48218995000024734,\n",
              "  0.504873193000094,\n",
              "  0.493242440999893,\n",
              "  0.4962107900000774,\n",
              "  0.501028476999636,\n",
              "  0.4998957400002837,\n",
              "  0.5016702310003893,\n",
              "  0.500766525000472,\n",
              "  0.5059141120000277,\n",
              "  0.5134204839996528,\n",
              "  0.8118160340000031,\n",
              "  0.8148670910004512,\n",
              "  0.9205408140005602,\n",
              "  0.6542871470001046,\n",
              "  0.4902975869999864,\n",
              "  0.4907249979996777,\n",
              "  0.5309731910001574,\n",
              "  0.501617363999685,\n",
              "  0.5044745899995178,\n",
              "  0.5181446019996656,\n",
              "  0.5328577090003819,\n",
              "  0.5211123209992365,\n",
              "  0.5154997970003024,\n",
              "  0.5377548740007114,\n",
              "  0.867290220000541,\n",
              "  0.8005780120001873,\n",
              "  0.773483469999519,\n",
              "  0.59573231900049,\n",
              "  0.4863326679997044,\n",
              "  0.506707753000228,\n",
              "  0.49305449799976486,\n",
              "  0.4934281739997459,\n",
              "  0.5051226019995738,\n",
              "  0.5006580689996554,\n",
              "  0.47635325900046155,\n",
              "  0.5231114079997496,\n",
              "  0.4993428129992026,\n",
              "  0.512831114000619,\n",
              "  0.7982232549993569,\n",
              "  0.8927978269994128,\n",
              "  0.8100741050002398,\n",
              "  0.47200588200030325,\n",
              "  0.511548018999747,\n",
              "  0.4935064089995649,\n",
              "  0.541781169999922,\n",
              "  0.4916517109995766,\n",
              "  0.5026652219994503,\n",
              "  0.4943686950000483,\n",
              "  0.4998925859999872,\n",
              "  0.48998796199975914,\n",
              "  0.5259070160000192,\n",
              "  0.5195191189995967,\n",
              "  0.8390170410002611,\n",
              "  0.8616411849998258,\n",
              "  0.9714507340004275,\n",
              "  0.518120767000255,\n",
              "  0.5099998639998375,\n",
              "  0.509971041999961,\n",
              "  0.5368867609995505,\n",
              "  0.5003533939998306,\n",
              "  0.5055455299998357,\n",
              "  0.5208651149996513,\n",
              "  0.5246375939996142,\n",
              "  0.5229357429998345,\n",
              "  0.5082418099991628,\n",
              "  0.521003101000133,\n",
              "  0.8147972180004217,\n",
              "  0.8256783010001527,\n",
              "  0.9443139209997753,\n",
              "  0.4982266349998099,\n",
              "  0.5016150510000443,\n",
              "  0.4994777370002339,\n",
              "  0.5096893820000332,\n",
              "  0.511752293000427,\n",
              "  0.5123210769997968,\n",
              "  0.4975142209996193,\n",
              "  0.502999680999892,\n",
              "  0.49321792799946707,\n",
              "  0.49552291500003776,\n",
              "  0.5643916069993793,\n",
              "  0.8142759149995982,\n",
              "  0.8514576239995222,\n",
              "  0.9438842199997453,\n",
              "  0.4883423800001765,\n",
              "  0.47710344699953566,\n",
              "  0.5075787190007759,\n",
              "  0.49145964500075934,\n",
              "  0.4975889850002204,\n",
              "  0.5156205379998937,\n",
              "  0.4935203579998415,\n",
              "  0.5181421480001518,\n",
              "  0.5079770490001465,\n",
              "  0.5196662629996354,\n",
              "  0.5953415579997454,\n",
              "  0.9010713039997427,\n",
              "  0.8967088119998152,\n",
              "  0.7699575460001142,\n",
              "  0.5215633569996498,\n",
              "  0.49712804600039817,\n",
              "  0.5005115769999975,\n",
              "  0.5086285150000549,\n",
              "  0.4973668920001728,\n",
              "  0.517080266999983,\n",
              "  0.5112068600001294,\n",
              "  0.4813895819997924,\n",
              "  0.5092657400000462,\n",
              "  0.5141266320006252,\n",
              "  0.6650130680000075,\n",
              "  0.817854724999961,\n",
              "  0.7716596789996402,\n",
              "  0.7853242949995547,\n",
              "  0.5135862929992072,\n",
              "  0.5139460190002865,\n",
              "  0.5210784900000363,\n",
              "  0.5016000140003598,\n",
              "  0.5103062719999798,\n",
              "  0.5969503180003812,\n",
              "  1.1020022309994602,\n",
              "  0.6174753670002247,\n",
              "  0.5169906349992743,\n",
              "  0.9109804700001405,\n",
              "  0.8583517030001531,\n",
              "  0.9124914520007223,\n",
              "  0.5070074229997772,\n",
              "  0.5287154480001846,\n",
              "  0.5029175549998399,\n",
              "  0.5096487689997957,\n",
              "  0.5018077700005961,\n",
              "  0.4978557340000407,\n",
              "  0.5299176340004124,\n",
              "  0.5313268350000726,\n",
              "  0.4958405400002448,\n",
              "  0.524068129000625,\n",
              "  0.5891200960004426,\n",
              "  0.8049993009999525,\n",
              "  0.8050199729996166,\n",
              "  0.9068830330006676,\n",
              "  0.5085419099996216,\n",
              "  0.4799826389998998,\n",
              "  0.5093933669995749,\n",
              "  0.49569021299976157,\n",
              "  0.5173734019999756,\n",
              "  0.4681095469995853,\n",
              "  0.5503597659999286,\n",
              "  0.5171161950001988,\n",
              "  0.5378867750005156,\n",
              "  0.5211617340000885,\n",
              "  0.6237878880001517,\n",
              "  0.8280742019996978,\n",
              "  0.9253177460004736,\n",
              "  0.7092982459998893,\n",
              "  0.540562229999523,\n",
              "  0.5535131309998178,\n",
              "  0.5036203630006639,\n",
              "  0.49948091299938824,\n",
              "  0.49036279800020566,\n",
              "  0.49620925199997146,\n",
              "  0.4717705829998522,\n",
              "  0.49773015400023723,\n",
              "  0.5013722699995924,\n",
              "  0.5026062449996971,\n",
              "  1.0213337069999397,\n",
              "  0.9035911179998948,\n",
              "  0.8330244799999491,\n",
              "  0.4952371339995807,\n",
              "  0.5087627259999863,\n",
              "  0.514057946000321,\n",
              "  0.5138470030005919,\n",
              "  0.4995595059999687,\n",
              "  0.5011149560004924,\n",
              "  0.49385755000002973,\n",
              "  0.4965839070000584,\n",
              "  0.5218576170000233,\n",
              "  0.4949415589999262,\n",
              "  0.5077787180007363]}"
            ]
          },
          "metadata": {},
          "execution_count": 85
        }
      ]
    },
    {
      "cell_type": "code",
      "source": [
        "np.mean(mal_dat['inference_times'])"
      ],
      "metadata": {
        "colab": {
          "base_uri": "https://localhost:8080/"
        },
        "id": "Vwh-405LEWKW",
        "outputId": "5ce04a94-c96f-4b54-bb8c-032990b4c3b9"
      },
      "execution_count": 60,
      "outputs": [
        {
          "output_type": "execute_result",
          "data": {
            "text/plain": [
              "0.5937246931721042"
            ]
          },
          "metadata": {},
          "execution_count": 60
        }
      ]
    },
    {
      "cell_type": "code",
      "source": [
        "qscript_times = mal_dat['inference_times']"
      ],
      "metadata": {
        "id": "inp5qBn4Ir78"
      },
      "execution_count": 71,
      "outputs": []
    },
    {
      "cell_type": "code",
      "source": [
        "plt.hist([base_times, q_times, qscript_times])\n",
        "plt.legend([\"base (µ = 0.62s/inference)\",\"q weights (µ = 0.62s/inference)\", \"q weight + torchscript (µ = 0.59s/inference)\"])\n",
        "plt.xlabel(\"time (s)\")\n",
        "plt.ylabel(\"count\")"
      ],
      "metadata": {
        "colab": {
          "base_uri": "https://localhost:8080/",
          "height": 467
        },
        "id": "btRnOt3TIJSx",
        "outputId": "b1be6458-e97f-4cf8-d353-6eaa43172da6"
      },
      "execution_count": 79,
      "outputs": [
        {
          "output_type": "execute_result",
          "data": {
            "text/plain": [
              "Text(0, 0.5, 'count')"
            ]
          },
          "metadata": {},
          "execution_count": 79
        },
        {
          "output_type": "display_data",
          "data": {
            "text/plain": [
              "<Figure size 640x480 with 1 Axes>"
            ],
            "image/png": "[encoded data removed]"
          },
          "metadata": {}
        }
      ]
    },
    {
      "cell_type": "code",
      "source": [
        "p = 0\n",
        "N = 0\n",
        "for i in malconv.parameters():\n",
        "  print(i.numel())\n",
        "  N+=i.numel()\n",
        "  if i.requires_grad:\n",
        "    p += i.numel()"
      ],
      "metadata": {
        "id": "RplfysoDEtuU"
      },
      "execution_count": null,
      "outputs": []
    },
    {
      "cell_type": "code",
      "source": [
        "p # # of trainable model params"
      ],
      "metadata": {
        "colab": {
          "base_uri": "https://localhost:8080/"
        },
        "id": "9IF0ASKpFA9B",
        "outputId": "cf6f5658-e0fc-4e38-eeb5-8bf4e1d8cb5b"
      },
      "execution_count": 56,
      "outputs": [
        {
          "output_type": "execute_result",
          "data": {
            "text/plain": [
              "1042953"
            ]
          },
          "metadata": {},
          "execution_count": 56
        }
      ]
    },
    {
      "cell_type": "markdown",
      "source": [
        "# Misc"
      ],
      "metadata": {
        "id": "buZGCihqmtYL"
      }
    },
    {
      "cell_type": "code",
      "source": [
        "!mv /content/gdrive/MyDrive/hpml_final_project/data/dasmalwerk/* /content/gdrive/MyDrive/hpml_final_project/data/"
      ],
      "metadata": {
        "id": "CpGDicxMnEY-"
      },
      "execution_count": null,
      "outputs": []
    },
    {
      "cell_type": "code",
      "source": [
        "!mv /content/gdrive/MyDrive/hpml_final_project/data/portablefreeware/* /content/gdrive/MyDrive/hpml_final_project/data/"
      ],
      "metadata": {
        "id": "I1s4J1p12_-t"
      },
      "execution_count": null,
      "outputs": []
    },
    {
      "cell_type": "code",
      "source": [
        "!rm -rf /content/gdrive/MyDrive/hpml_final_project/data/portablefreeware/\n",
        "!rm -rf /content/gdrive/MyDrive/hpml_final_project/data/dasmalwerk/\n"
      ],
      "metadata": {
        "id": "lW1Hh4nb3dJa"
      },
      "execution_count": null,
      "outputs": []
    },
    {
      "cell_type": "code",
      "source": [
        "!cp /content/gdrive/MyDrive/hpml_final_project/data/bluetoothview.exe"
      ],
      "metadata": {
        "id": "qUE4ccrv5RsO"
      },
      "execution_count": null,
      "outputs": []
    },
    {
      "cell_type": "markdown",
      "source": [
        "# GAMEPLAN"
      ],
      "metadata": {
        "id": "BgNzSaJfjq3e"
      }
    },
    {
      "cell_type": "markdown",
      "source": [
        "\n",
        "\n",
        "1.   Pretrained model experiments\n",
        "*   Timings\n",
        "*   Weights, biases, and activations quantization\n",
        "*   Tracing/scripting\n",
        "*   Pruning\n",
        "\n",
        "\n",
        "2.   Training experiments\n",
        "*   Measurement\n",
        "*   Hyperparameter sweeping\n",
        "\n",
        "\n",
        "\n"
      ],
      "metadata": {
        "id": "3nSdBvbUjvRh"
      }
    }
  ]
}